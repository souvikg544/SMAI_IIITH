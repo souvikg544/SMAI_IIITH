{
  "cells": [
    {
      "cell_type": "markdown",
      "metadata": {
        "id": "J6kg6xdqlgLr"
      },
      "source": [
        "### SOUVIK GHOSH -PGSSP -SMAI\n",
        "Contact - souvik.ghosh@students.iiit.ac.in"
      ]
    },
    {
      "cell_type": "markdown",
      "metadata": {
        "id": "pHNjS5gCsYo6"
      },
      "source": [
        "## Importing required Libraries\n"
      ]
    },
    {
      "cell_type": "code",
      "execution_count": 3,
      "metadata": {
        "id": "jYZBdML5pbpu"
      },
      "outputs": [],
      "source": [
        "import pandas as pd\n",
        "import numpy as np\n",
        "import matplotlib.pyplot as plt\n",
        "import seaborn as sns\n",
        "from sklearn.preprocessing import LabelEncoder"
      ]
    },
    {
      "cell_type": "markdown",
      "metadata": {
        "id": "THcLd-4GsgEh"
      },
      "source": [
        "## Data Loading and brief exploration"
      ]
    },
    {
      "cell_type": "code",
      "execution_count": 4,
      "metadata": {
        "id": "UwNv3MrusDWR"
      },
      "outputs": [],
      "source": [
        "df = pd.read_csv('Q1Data.csv')"
      ]
    },
    {
      "cell_type": "code",
      "execution_count": 5,
      "metadata": {
        "id": "qPZitJP4tB6a",
        "colab": {
          "base_uri": "https://localhost:8080/",
          "height": 273
        },
        "outputId": "f48490bb-e4f8-408e-b1eb-0ee87604b7f5"
      },
      "outputs": [
        {
          "output_type": "execute_result",
          "data": {
            "text/plain": [
              "   MFCCs_ 1  MFCCs_ 2  MFCCs_ 3  MFCCs_ 4  MFCCs_ 5  MFCCs_ 6  MFCCs_ 7  \\\n",
              "0  0.152936 -0.105586  0.200722  0.317201  0.260764  0.100945 -0.150063   \n",
              "1  0.171534 -0.098975  0.268425  0.338672  0.268353  0.060835 -0.222475   \n",
              "2  0.152317 -0.082973  0.287128  0.276014  0.189867  0.008714 -0.242234   \n",
              "3  0.224392  0.118985  0.329432  0.372088  0.361005  0.015501 -0.194347   \n",
              "4  0.087817 -0.068345  0.306967  0.330923  0.249144  0.006884 -0.265423   \n",
              "\n",
              "   MFCCs_ 8   MFCCs_9  MFCCs_10  ...  MFCCs_15  MFCCs_16  MFCCs_17  MFCCs_18  \\\n",
              "0 -0.171128  0.124676  0.188654  ... -0.024017 -0.108351 -0.077623 -0.009568   \n",
              "1 -0.207693  0.170883  0.270958  ...  0.012022 -0.090974 -0.056510 -0.035303   \n",
              "2 -0.219153  0.232538  0.266064  ...  0.083536 -0.050691 -0.023590 -0.066722   \n",
              "3 -0.098181  0.270375  0.267279  ... -0.050224 -0.136009 -0.177037 -0.130498   \n",
              "4 -0.172700  0.266434  0.332695  ...  0.062837 -0.048885 -0.053074 -0.088550   \n",
              "\n",
              "   MFCCs_19  MFCCs_20  MFCCs_21           Family      Genus         Species  \n",
              "0  0.057684  0.118680  0.014038  Leptodactylidae  Adenomera  AdenomeraAndre  \n",
              "1  0.020140  0.082263  0.029056  Leptodactylidae  Adenomera  AdenomeraAndre  \n",
              "2 -0.025083  0.099108  0.077162  Leptodactylidae  Adenomera  AdenomeraAndre  \n",
              "3 -0.054766 -0.018691  0.023954  Leptodactylidae  Adenomera  AdenomeraAndre  \n",
              "4 -0.031346  0.108610  0.079244  Leptodactylidae  Adenomera  AdenomeraAndre  \n",
              "\n",
              "[5 rows x 24 columns]"
            ],
            "text/html": [
              "\n",
              "  <div id=\"df-6cd89c2e-68a5-4163-8c21-be8c86609813\" class=\"colab-df-container\">\n",
              "    <div>\n",
              "<style scoped>\n",
              "    .dataframe tbody tr th:only-of-type {\n",
              "        vertical-align: middle;\n",
              "    }\n",
              "\n",
              "    .dataframe tbody tr th {\n",
              "        vertical-align: top;\n",
              "    }\n",
              "\n",
              "    .dataframe thead th {\n",
              "        text-align: right;\n",
              "    }\n",
              "</style>\n",
              "<table border=\"1\" class=\"dataframe\">\n",
              "  <thead>\n",
              "    <tr style=\"text-align: right;\">\n",
              "      <th></th>\n",
              "      <th>MFCCs_ 1</th>\n",
              "      <th>MFCCs_ 2</th>\n",
              "      <th>MFCCs_ 3</th>\n",
              "      <th>MFCCs_ 4</th>\n",
              "      <th>MFCCs_ 5</th>\n",
              "      <th>MFCCs_ 6</th>\n",
              "      <th>MFCCs_ 7</th>\n",
              "      <th>MFCCs_ 8</th>\n",
              "      <th>MFCCs_9</th>\n",
              "      <th>MFCCs_10</th>\n",
              "      <th>...</th>\n",
              "      <th>MFCCs_15</th>\n",
              "      <th>MFCCs_16</th>\n",
              "      <th>MFCCs_17</th>\n",
              "      <th>MFCCs_18</th>\n",
              "      <th>MFCCs_19</th>\n",
              "      <th>MFCCs_20</th>\n",
              "      <th>MFCCs_21</th>\n",
              "      <th>Family</th>\n",
              "      <th>Genus</th>\n",
              "      <th>Species</th>\n",
              "    </tr>\n",
              "  </thead>\n",
              "  <tbody>\n",
              "    <tr>\n",
              "      <th>0</th>\n",
              "      <td>0.152936</td>\n",
              "      <td>-0.105586</td>\n",
              "      <td>0.200722</td>\n",
              "      <td>0.317201</td>\n",
              "      <td>0.260764</td>\n",
              "      <td>0.100945</td>\n",
              "      <td>-0.150063</td>\n",
              "      <td>-0.171128</td>\n",
              "      <td>0.124676</td>\n",
              "      <td>0.188654</td>\n",
              "      <td>...</td>\n",
              "      <td>-0.024017</td>\n",
              "      <td>-0.108351</td>\n",
              "      <td>-0.077623</td>\n",
              "      <td>-0.009568</td>\n",
              "      <td>0.057684</td>\n",
              "      <td>0.118680</td>\n",
              "      <td>0.014038</td>\n",
              "      <td>Leptodactylidae</td>\n",
              "      <td>Adenomera</td>\n",
              "      <td>AdenomeraAndre</td>\n",
              "    </tr>\n",
              "    <tr>\n",
              "      <th>1</th>\n",
              "      <td>0.171534</td>\n",
              "      <td>-0.098975</td>\n",
              "      <td>0.268425</td>\n",
              "      <td>0.338672</td>\n",
              "      <td>0.268353</td>\n",
              "      <td>0.060835</td>\n",
              "      <td>-0.222475</td>\n",
              "      <td>-0.207693</td>\n",
              "      <td>0.170883</td>\n",
              "      <td>0.270958</td>\n",
              "      <td>...</td>\n",
              "      <td>0.012022</td>\n",
              "      <td>-0.090974</td>\n",
              "      <td>-0.056510</td>\n",
              "      <td>-0.035303</td>\n",
              "      <td>0.020140</td>\n",
              "      <td>0.082263</td>\n",
              "      <td>0.029056</td>\n",
              "      <td>Leptodactylidae</td>\n",
              "      <td>Adenomera</td>\n",
              "      <td>AdenomeraAndre</td>\n",
              "    </tr>\n",
              "    <tr>\n",
              "      <th>2</th>\n",
              "      <td>0.152317</td>\n",
              "      <td>-0.082973</td>\n",
              "      <td>0.287128</td>\n",
              "      <td>0.276014</td>\n",
              "      <td>0.189867</td>\n",
              "      <td>0.008714</td>\n",
              "      <td>-0.242234</td>\n",
              "      <td>-0.219153</td>\n",
              "      <td>0.232538</td>\n",
              "      <td>0.266064</td>\n",
              "      <td>...</td>\n",
              "      <td>0.083536</td>\n",
              "      <td>-0.050691</td>\n",
              "      <td>-0.023590</td>\n",
              "      <td>-0.066722</td>\n",
              "      <td>-0.025083</td>\n",
              "      <td>0.099108</td>\n",
              "      <td>0.077162</td>\n",
              "      <td>Leptodactylidae</td>\n",
              "      <td>Adenomera</td>\n",
              "      <td>AdenomeraAndre</td>\n",
              "    </tr>\n",
              "    <tr>\n",
              "      <th>3</th>\n",
              "      <td>0.224392</td>\n",
              "      <td>0.118985</td>\n",
              "      <td>0.329432</td>\n",
              "      <td>0.372088</td>\n",
              "      <td>0.361005</td>\n",
              "      <td>0.015501</td>\n",
              "      <td>-0.194347</td>\n",
              "      <td>-0.098181</td>\n",
              "      <td>0.270375</td>\n",
              "      <td>0.267279</td>\n",
              "      <td>...</td>\n",
              "      <td>-0.050224</td>\n",
              "      <td>-0.136009</td>\n",
              "      <td>-0.177037</td>\n",
              "      <td>-0.130498</td>\n",
              "      <td>-0.054766</td>\n",
              "      <td>-0.018691</td>\n",
              "      <td>0.023954</td>\n",
              "      <td>Leptodactylidae</td>\n",
              "      <td>Adenomera</td>\n",
              "      <td>AdenomeraAndre</td>\n",
              "    </tr>\n",
              "    <tr>\n",
              "      <th>4</th>\n",
              "      <td>0.087817</td>\n",
              "      <td>-0.068345</td>\n",
              "      <td>0.306967</td>\n",
              "      <td>0.330923</td>\n",
              "      <td>0.249144</td>\n",
              "      <td>0.006884</td>\n",
              "      <td>-0.265423</td>\n",
              "      <td>-0.172700</td>\n",
              "      <td>0.266434</td>\n",
              "      <td>0.332695</td>\n",
              "      <td>...</td>\n",
              "      <td>0.062837</td>\n",
              "      <td>-0.048885</td>\n",
              "      <td>-0.053074</td>\n",
              "      <td>-0.088550</td>\n",
              "      <td>-0.031346</td>\n",
              "      <td>0.108610</td>\n",
              "      <td>0.079244</td>\n",
              "      <td>Leptodactylidae</td>\n",
              "      <td>Adenomera</td>\n",
              "      <td>AdenomeraAndre</td>\n",
              "    </tr>\n",
              "  </tbody>\n",
              "</table>\n",
              "<p>5 rows × 24 columns</p>\n",
              "</div>\n",
              "    <div class=\"colab-df-buttons\">\n",
              "\n",
              "  <div class=\"colab-df-container\">\n",
              "    <button class=\"colab-df-convert\" onclick=\"convertToInteractive('df-6cd89c2e-68a5-4163-8c21-be8c86609813')\"\n",
              "            title=\"Convert this dataframe to an interactive table.\"\n",
              "            style=\"display:none;\">\n",
              "\n",
              "  <svg xmlns=\"http://www.w3.org/2000/svg\" height=\"24px\" viewBox=\"0 -960 960 960\">\n",
              "    <path d=\"M120-120v-720h720v720H120Zm60-500h600v-160H180v160Zm220 220h160v-160H400v160Zm0 220h160v-160H400v160ZM180-400h160v-160H180v160Zm440 0h160v-160H620v160ZM180-180h160v-160H180v160Zm440 0h160v-160H620v160Z\"/>\n",
              "  </svg>\n",
              "    </button>\n",
              "\n",
              "  <style>\n",
              "    .colab-df-container {\n",
              "      display:flex;\n",
              "      gap: 12px;\n",
              "    }\n",
              "\n",
              "    .colab-df-convert {\n",
              "      background-color: #E8F0FE;\n",
              "      border: none;\n",
              "      border-radius: 50%;\n",
              "      cursor: pointer;\n",
              "      display: none;\n",
              "      fill: #1967D2;\n",
              "      height: 32px;\n",
              "      padding: 0 0 0 0;\n",
              "      width: 32px;\n",
              "    }\n",
              "\n",
              "    .colab-df-convert:hover {\n",
              "      background-color: #E2EBFA;\n",
              "      box-shadow: 0px 1px 2px rgba(60, 64, 67, 0.3), 0px 1px 3px 1px rgba(60, 64, 67, 0.15);\n",
              "      fill: #174EA6;\n",
              "    }\n",
              "\n",
              "    .colab-df-buttons div {\n",
              "      margin-bottom: 4px;\n",
              "    }\n",
              "\n",
              "    [theme=dark] .colab-df-convert {\n",
              "      background-color: #3B4455;\n",
              "      fill: #D2E3FC;\n",
              "    }\n",
              "\n",
              "    [theme=dark] .colab-df-convert:hover {\n",
              "      background-color: #434B5C;\n",
              "      box-shadow: 0px 1px 3px 1px rgba(0, 0, 0, 0.15);\n",
              "      filter: drop-shadow(0px 1px 2px rgba(0, 0, 0, 0.3));\n",
              "      fill: #FFFFFF;\n",
              "    }\n",
              "  </style>\n",
              "\n",
              "    <script>\n",
              "      const buttonEl =\n",
              "        document.querySelector('#df-6cd89c2e-68a5-4163-8c21-be8c86609813 button.colab-df-convert');\n",
              "      buttonEl.style.display =\n",
              "        google.colab.kernel.accessAllowed ? 'block' : 'none';\n",
              "\n",
              "      async function convertToInteractive(key) {\n",
              "        const element = document.querySelector('#df-6cd89c2e-68a5-4163-8c21-be8c86609813');\n",
              "        const dataTable =\n",
              "          await google.colab.kernel.invokeFunction('convertToInteractive',\n",
              "                                                    [key], {});\n",
              "        if (!dataTable) return;\n",
              "\n",
              "        const docLinkHtml = 'Like what you see? Visit the ' +\n",
              "          '<a target=\"_blank\" href=https://colab.research.google.com/notebooks/data_table.ipynb>data table notebook</a>'\n",
              "          + ' to learn more about interactive tables.';\n",
              "        element.innerHTML = '';\n",
              "        dataTable['output_type'] = 'display_data';\n",
              "        await google.colab.output.renderOutput(dataTable, element);\n",
              "        const docLink = document.createElement('div');\n",
              "        docLink.innerHTML = docLinkHtml;\n",
              "        element.appendChild(docLink);\n",
              "      }\n",
              "    </script>\n",
              "  </div>\n",
              "\n",
              "\n",
              "<div id=\"df-385a9314-b468-4b87-92c6-f09a85b37fe4\">\n",
              "  <button class=\"colab-df-quickchart\" onclick=\"quickchart('df-385a9314-b468-4b87-92c6-f09a85b37fe4')\"\n",
              "            title=\"Suggest charts\"\n",
              "            style=\"display:none;\">\n",
              "\n",
              "<svg xmlns=\"http://www.w3.org/2000/svg\" height=\"24px\"viewBox=\"0 0 24 24\"\n",
              "     width=\"24px\">\n",
              "    <g>\n",
              "        <path d=\"M19 3H5c-1.1 0-2 .9-2 2v14c0 1.1.9 2 2 2h14c1.1 0 2-.9 2-2V5c0-1.1-.9-2-2-2zM9 17H7v-7h2v7zm4 0h-2V7h2v10zm4 0h-2v-4h2v4z\"/>\n",
              "    </g>\n",
              "</svg>\n",
              "  </button>\n",
              "\n",
              "<style>\n",
              "  .colab-df-quickchart {\n",
              "      --bg-color: #E8F0FE;\n",
              "      --fill-color: #1967D2;\n",
              "      --hover-bg-color: #E2EBFA;\n",
              "      --hover-fill-color: #174EA6;\n",
              "      --disabled-fill-color: #AAA;\n",
              "      --disabled-bg-color: #DDD;\n",
              "  }\n",
              "\n",
              "  [theme=dark] .colab-df-quickchart {\n",
              "      --bg-color: #3B4455;\n",
              "      --fill-color: #D2E3FC;\n",
              "      --hover-bg-color: #434B5C;\n",
              "      --hover-fill-color: #FFFFFF;\n",
              "      --disabled-bg-color: #3B4455;\n",
              "      --disabled-fill-color: #666;\n",
              "  }\n",
              "\n",
              "  .colab-df-quickchart {\n",
              "    background-color: var(--bg-color);\n",
              "    border: none;\n",
              "    border-radius: 50%;\n",
              "    cursor: pointer;\n",
              "    display: none;\n",
              "    fill: var(--fill-color);\n",
              "    height: 32px;\n",
              "    padding: 0;\n",
              "    width: 32px;\n",
              "  }\n",
              "\n",
              "  .colab-df-quickchart:hover {\n",
              "    background-color: var(--hover-bg-color);\n",
              "    box-shadow: 0 1px 2px rgba(60, 64, 67, 0.3), 0 1px 3px 1px rgba(60, 64, 67, 0.15);\n",
              "    fill: var(--button-hover-fill-color);\n",
              "  }\n",
              "\n",
              "  .colab-df-quickchart-complete:disabled,\n",
              "  .colab-df-quickchart-complete:disabled:hover {\n",
              "    background-color: var(--disabled-bg-color);\n",
              "    fill: var(--disabled-fill-color);\n",
              "    box-shadow: none;\n",
              "  }\n",
              "\n",
              "  .colab-df-spinner {\n",
              "    border: 2px solid var(--fill-color);\n",
              "    border-color: transparent;\n",
              "    border-bottom-color: var(--fill-color);\n",
              "    animation:\n",
              "      spin 1s steps(1) infinite;\n",
              "  }\n",
              "\n",
              "  @keyframes spin {\n",
              "    0% {\n",
              "      border-color: transparent;\n",
              "      border-bottom-color: var(--fill-color);\n",
              "      border-left-color: var(--fill-color);\n",
              "    }\n",
              "    20% {\n",
              "      border-color: transparent;\n",
              "      border-left-color: var(--fill-color);\n",
              "      border-top-color: var(--fill-color);\n",
              "    }\n",
              "    30% {\n",
              "      border-color: transparent;\n",
              "      border-left-color: var(--fill-color);\n",
              "      border-top-color: var(--fill-color);\n",
              "      border-right-color: var(--fill-color);\n",
              "    }\n",
              "    40% {\n",
              "      border-color: transparent;\n",
              "      border-right-color: var(--fill-color);\n",
              "      border-top-color: var(--fill-color);\n",
              "    }\n",
              "    60% {\n",
              "      border-color: transparent;\n",
              "      border-right-color: var(--fill-color);\n",
              "    }\n",
              "    80% {\n",
              "      border-color: transparent;\n",
              "      border-right-color: var(--fill-color);\n",
              "      border-bottom-color: var(--fill-color);\n",
              "    }\n",
              "    90% {\n",
              "      border-color: transparent;\n",
              "      border-bottom-color: var(--fill-color);\n",
              "    }\n",
              "  }\n",
              "</style>\n",
              "\n",
              "  <script>\n",
              "    async function quickchart(key) {\n",
              "      const quickchartButtonEl =\n",
              "        document.querySelector('#' + key + ' button');\n",
              "      quickchartButtonEl.disabled = true;  // To prevent multiple clicks.\n",
              "      quickchartButtonEl.classList.add('colab-df-spinner');\n",
              "      try {\n",
              "        const charts = await google.colab.kernel.invokeFunction(\n",
              "            'suggestCharts', [key], {});\n",
              "      } catch (error) {\n",
              "        console.error('Error during call to suggestCharts:', error);\n",
              "      }\n",
              "      quickchartButtonEl.classList.remove('colab-df-spinner');\n",
              "      quickchartButtonEl.classList.add('colab-df-quickchart-complete');\n",
              "    }\n",
              "    (() => {\n",
              "      let quickchartButtonEl =\n",
              "        document.querySelector('#df-385a9314-b468-4b87-92c6-f09a85b37fe4 button');\n",
              "      quickchartButtonEl.style.display =\n",
              "        google.colab.kernel.accessAllowed ? 'block' : 'none';\n",
              "    })();\n",
              "  </script>\n",
              "</div>\n",
              "\n",
              "    </div>\n",
              "  </div>\n"
            ]
          },
          "metadata": {},
          "execution_count": 5
        }
      ],
      "source": [
        "df.head()"
      ]
    },
    {
      "cell_type": "code",
      "execution_count": 6,
      "metadata": {
        "id": "lm9TbbCSq6HZ"
      },
      "outputs": [],
      "source": [
        "label_encoder = LabelEncoder()\n",
        "\n",
        "# Apply label encoding to each categorical column\n",
        "for column in df.select_dtypes(include='object').columns:\n",
        "    df[column] = label_encoder.fit_transform(df[column])"
      ]
    },
    {
      "cell_type": "code",
      "execution_count": 7,
      "metadata": {
        "id": "ZnRNDUrAq9d_",
        "colab": {
          "base_uri": "https://localhost:8080/",
          "height": 273
        },
        "outputId": "5467bfc8-9956-4e45-be3a-bcdba637dbd7"
      },
      "outputs": [
        {
          "output_type": "execute_result",
          "data": {
            "text/plain": [
              "   MFCCs_ 1  MFCCs_ 2  MFCCs_ 3  MFCCs_ 4  MFCCs_ 5  MFCCs_ 6  MFCCs_ 7  \\\n",
              "0  0.152936 -0.105586  0.200722  0.317201  0.260764  0.100945 -0.150063   \n",
              "1  0.171534 -0.098975  0.268425  0.338672  0.268353  0.060835 -0.222475   \n",
              "2  0.152317 -0.082973  0.287128  0.276014  0.189867  0.008714 -0.242234   \n",
              "3  0.224392  0.118985  0.329432  0.372088  0.361005  0.015501 -0.194347   \n",
              "4  0.087817 -0.068345  0.306967  0.330923  0.249144  0.006884 -0.265423   \n",
              "\n",
              "   MFCCs_ 8   MFCCs_9  MFCCs_10  ...  MFCCs_15  MFCCs_16  MFCCs_17  MFCCs_18  \\\n",
              "0 -0.171128  0.124676  0.188654  ... -0.024017 -0.108351 -0.077623 -0.009568   \n",
              "1 -0.207693  0.170883  0.270958  ...  0.012022 -0.090974 -0.056510 -0.035303   \n",
              "2 -0.219153  0.232538  0.266064  ...  0.083536 -0.050691 -0.023590 -0.066722   \n",
              "3 -0.098181  0.270375  0.267279  ... -0.050224 -0.136009 -0.177037 -0.130498   \n",
              "4 -0.172700  0.266434  0.332695  ...  0.062837 -0.048885 -0.053074 -0.088550   \n",
              "\n",
              "   MFCCs_19  MFCCs_20  MFCCs_21  Family  Genus  Species  \n",
              "0  0.057684  0.118680  0.014038       3      0        0  \n",
              "1  0.020140  0.082263  0.029056       3      0        0  \n",
              "2 -0.025083  0.099108  0.077162       3      0        0  \n",
              "3 -0.054766 -0.018691  0.023954       3      0        0  \n",
              "4 -0.031346  0.108610  0.079244       3      0        0  \n",
              "\n",
              "[5 rows x 24 columns]"
            ],
            "text/html": [
              "\n",
              "  <div id=\"df-176c6bb9-e87a-42d2-a36e-5eb368f0472b\" class=\"colab-df-container\">\n",
              "    <div>\n",
              "<style scoped>\n",
              "    .dataframe tbody tr th:only-of-type {\n",
              "        vertical-align: middle;\n",
              "    }\n",
              "\n",
              "    .dataframe tbody tr th {\n",
              "        vertical-align: top;\n",
              "    }\n",
              "\n",
              "    .dataframe thead th {\n",
              "        text-align: right;\n",
              "    }\n",
              "</style>\n",
              "<table border=\"1\" class=\"dataframe\">\n",
              "  <thead>\n",
              "    <tr style=\"text-align: right;\">\n",
              "      <th></th>\n",
              "      <th>MFCCs_ 1</th>\n",
              "      <th>MFCCs_ 2</th>\n",
              "      <th>MFCCs_ 3</th>\n",
              "      <th>MFCCs_ 4</th>\n",
              "      <th>MFCCs_ 5</th>\n",
              "      <th>MFCCs_ 6</th>\n",
              "      <th>MFCCs_ 7</th>\n",
              "      <th>MFCCs_ 8</th>\n",
              "      <th>MFCCs_9</th>\n",
              "      <th>MFCCs_10</th>\n",
              "      <th>...</th>\n",
              "      <th>MFCCs_15</th>\n",
              "      <th>MFCCs_16</th>\n",
              "      <th>MFCCs_17</th>\n",
              "      <th>MFCCs_18</th>\n",
              "      <th>MFCCs_19</th>\n",
              "      <th>MFCCs_20</th>\n",
              "      <th>MFCCs_21</th>\n",
              "      <th>Family</th>\n",
              "      <th>Genus</th>\n",
              "      <th>Species</th>\n",
              "    </tr>\n",
              "  </thead>\n",
              "  <tbody>\n",
              "    <tr>\n",
              "      <th>0</th>\n",
              "      <td>0.152936</td>\n",
              "      <td>-0.105586</td>\n",
              "      <td>0.200722</td>\n",
              "      <td>0.317201</td>\n",
              "      <td>0.260764</td>\n",
              "      <td>0.100945</td>\n",
              "      <td>-0.150063</td>\n",
              "      <td>-0.171128</td>\n",
              "      <td>0.124676</td>\n",
              "      <td>0.188654</td>\n",
              "      <td>...</td>\n",
              "      <td>-0.024017</td>\n",
              "      <td>-0.108351</td>\n",
              "      <td>-0.077623</td>\n",
              "      <td>-0.009568</td>\n",
              "      <td>0.057684</td>\n",
              "      <td>0.118680</td>\n",
              "      <td>0.014038</td>\n",
              "      <td>3</td>\n",
              "      <td>0</td>\n",
              "      <td>0</td>\n",
              "    </tr>\n",
              "    <tr>\n",
              "      <th>1</th>\n",
              "      <td>0.171534</td>\n",
              "      <td>-0.098975</td>\n",
              "      <td>0.268425</td>\n",
              "      <td>0.338672</td>\n",
              "      <td>0.268353</td>\n",
              "      <td>0.060835</td>\n",
              "      <td>-0.222475</td>\n",
              "      <td>-0.207693</td>\n",
              "      <td>0.170883</td>\n",
              "      <td>0.270958</td>\n",
              "      <td>...</td>\n",
              "      <td>0.012022</td>\n",
              "      <td>-0.090974</td>\n",
              "      <td>-0.056510</td>\n",
              "      <td>-0.035303</td>\n",
              "      <td>0.020140</td>\n",
              "      <td>0.082263</td>\n",
              "      <td>0.029056</td>\n",
              "      <td>3</td>\n",
              "      <td>0</td>\n",
              "      <td>0</td>\n",
              "    </tr>\n",
              "    <tr>\n",
              "      <th>2</th>\n",
              "      <td>0.152317</td>\n",
              "      <td>-0.082973</td>\n",
              "      <td>0.287128</td>\n",
              "      <td>0.276014</td>\n",
              "      <td>0.189867</td>\n",
              "      <td>0.008714</td>\n",
              "      <td>-0.242234</td>\n",
              "      <td>-0.219153</td>\n",
              "      <td>0.232538</td>\n",
              "      <td>0.266064</td>\n",
              "      <td>...</td>\n",
              "      <td>0.083536</td>\n",
              "      <td>-0.050691</td>\n",
              "      <td>-0.023590</td>\n",
              "      <td>-0.066722</td>\n",
              "      <td>-0.025083</td>\n",
              "      <td>0.099108</td>\n",
              "      <td>0.077162</td>\n",
              "      <td>3</td>\n",
              "      <td>0</td>\n",
              "      <td>0</td>\n",
              "    </tr>\n",
              "    <tr>\n",
              "      <th>3</th>\n",
              "      <td>0.224392</td>\n",
              "      <td>0.118985</td>\n",
              "      <td>0.329432</td>\n",
              "      <td>0.372088</td>\n",
              "      <td>0.361005</td>\n",
              "      <td>0.015501</td>\n",
              "      <td>-0.194347</td>\n",
              "      <td>-0.098181</td>\n",
              "      <td>0.270375</td>\n",
              "      <td>0.267279</td>\n",
              "      <td>...</td>\n",
              "      <td>-0.050224</td>\n",
              "      <td>-0.136009</td>\n",
              "      <td>-0.177037</td>\n",
              "      <td>-0.130498</td>\n",
              "      <td>-0.054766</td>\n",
              "      <td>-0.018691</td>\n",
              "      <td>0.023954</td>\n",
              "      <td>3</td>\n",
              "      <td>0</td>\n",
              "      <td>0</td>\n",
              "    </tr>\n",
              "    <tr>\n",
              "      <th>4</th>\n",
              "      <td>0.087817</td>\n",
              "      <td>-0.068345</td>\n",
              "      <td>0.306967</td>\n",
              "      <td>0.330923</td>\n",
              "      <td>0.249144</td>\n",
              "      <td>0.006884</td>\n",
              "      <td>-0.265423</td>\n",
              "      <td>-0.172700</td>\n",
              "      <td>0.266434</td>\n",
              "      <td>0.332695</td>\n",
              "      <td>...</td>\n",
              "      <td>0.062837</td>\n",
              "      <td>-0.048885</td>\n",
              "      <td>-0.053074</td>\n",
              "      <td>-0.088550</td>\n",
              "      <td>-0.031346</td>\n",
              "      <td>0.108610</td>\n",
              "      <td>0.079244</td>\n",
              "      <td>3</td>\n",
              "      <td>0</td>\n",
              "      <td>0</td>\n",
              "    </tr>\n",
              "  </tbody>\n",
              "</table>\n",
              "<p>5 rows × 24 columns</p>\n",
              "</div>\n",
              "    <div class=\"colab-df-buttons\">\n",
              "\n",
              "  <div class=\"colab-df-container\">\n",
              "    <button class=\"colab-df-convert\" onclick=\"convertToInteractive('df-176c6bb9-e87a-42d2-a36e-5eb368f0472b')\"\n",
              "            title=\"Convert this dataframe to an interactive table.\"\n",
              "            style=\"display:none;\">\n",
              "\n",
              "  <svg xmlns=\"http://www.w3.org/2000/svg\" height=\"24px\" viewBox=\"0 -960 960 960\">\n",
              "    <path d=\"M120-120v-720h720v720H120Zm60-500h600v-160H180v160Zm220 220h160v-160H400v160Zm0 220h160v-160H400v160ZM180-400h160v-160H180v160Zm440 0h160v-160H620v160ZM180-180h160v-160H180v160Zm440 0h160v-160H620v160Z\"/>\n",
              "  </svg>\n",
              "    </button>\n",
              "\n",
              "  <style>\n",
              "    .colab-df-container {\n",
              "      display:flex;\n",
              "      gap: 12px;\n",
              "    }\n",
              "\n",
              "    .colab-df-convert {\n",
              "      background-color: #E8F0FE;\n",
              "      border: none;\n",
              "      border-radius: 50%;\n",
              "      cursor: pointer;\n",
              "      display: none;\n",
              "      fill: #1967D2;\n",
              "      height: 32px;\n",
              "      padding: 0 0 0 0;\n",
              "      width: 32px;\n",
              "    }\n",
              "\n",
              "    .colab-df-convert:hover {\n",
              "      background-color: #E2EBFA;\n",
              "      box-shadow: 0px 1px 2px rgba(60, 64, 67, 0.3), 0px 1px 3px 1px rgba(60, 64, 67, 0.15);\n",
              "      fill: #174EA6;\n",
              "    }\n",
              "\n",
              "    .colab-df-buttons div {\n",
              "      margin-bottom: 4px;\n",
              "    }\n",
              "\n",
              "    [theme=dark] .colab-df-convert {\n",
              "      background-color: #3B4455;\n",
              "      fill: #D2E3FC;\n",
              "    }\n",
              "\n",
              "    [theme=dark] .colab-df-convert:hover {\n",
              "      background-color: #434B5C;\n",
              "      box-shadow: 0px 1px 3px 1px rgba(0, 0, 0, 0.15);\n",
              "      filter: drop-shadow(0px 1px 2px rgba(0, 0, 0, 0.3));\n",
              "      fill: #FFFFFF;\n",
              "    }\n",
              "  </style>\n",
              "\n",
              "    <script>\n",
              "      const buttonEl =\n",
              "        document.querySelector('#df-176c6bb9-e87a-42d2-a36e-5eb368f0472b button.colab-df-convert');\n",
              "      buttonEl.style.display =\n",
              "        google.colab.kernel.accessAllowed ? 'block' : 'none';\n",
              "\n",
              "      async function convertToInteractive(key) {\n",
              "        const element = document.querySelector('#df-176c6bb9-e87a-42d2-a36e-5eb368f0472b');\n",
              "        const dataTable =\n",
              "          await google.colab.kernel.invokeFunction('convertToInteractive',\n",
              "                                                    [key], {});\n",
              "        if (!dataTable) return;\n",
              "\n",
              "        const docLinkHtml = 'Like what you see? Visit the ' +\n",
              "          '<a target=\"_blank\" href=https://colab.research.google.com/notebooks/data_table.ipynb>data table notebook</a>'\n",
              "          + ' to learn more about interactive tables.';\n",
              "        element.innerHTML = '';\n",
              "        dataTable['output_type'] = 'display_data';\n",
              "        await google.colab.output.renderOutput(dataTable, element);\n",
              "        const docLink = document.createElement('div');\n",
              "        docLink.innerHTML = docLinkHtml;\n",
              "        element.appendChild(docLink);\n",
              "      }\n",
              "    </script>\n",
              "  </div>\n",
              "\n",
              "\n",
              "<div id=\"df-2f02ba20-c995-4d61-a5b6-abf7a8cc9b8f\">\n",
              "  <button class=\"colab-df-quickchart\" onclick=\"quickchart('df-2f02ba20-c995-4d61-a5b6-abf7a8cc9b8f')\"\n",
              "            title=\"Suggest charts\"\n",
              "            style=\"display:none;\">\n",
              "\n",
              "<svg xmlns=\"http://www.w3.org/2000/svg\" height=\"24px\"viewBox=\"0 0 24 24\"\n",
              "     width=\"24px\">\n",
              "    <g>\n",
              "        <path d=\"M19 3H5c-1.1 0-2 .9-2 2v14c0 1.1.9 2 2 2h14c1.1 0 2-.9 2-2V5c0-1.1-.9-2-2-2zM9 17H7v-7h2v7zm4 0h-2V7h2v10zm4 0h-2v-4h2v4z\"/>\n",
              "    </g>\n",
              "</svg>\n",
              "  </button>\n",
              "\n",
              "<style>\n",
              "  .colab-df-quickchart {\n",
              "      --bg-color: #E8F0FE;\n",
              "      --fill-color: #1967D2;\n",
              "      --hover-bg-color: #E2EBFA;\n",
              "      --hover-fill-color: #174EA6;\n",
              "      --disabled-fill-color: #AAA;\n",
              "      --disabled-bg-color: #DDD;\n",
              "  }\n",
              "\n",
              "  [theme=dark] .colab-df-quickchart {\n",
              "      --bg-color: #3B4455;\n",
              "      --fill-color: #D2E3FC;\n",
              "      --hover-bg-color: #434B5C;\n",
              "      --hover-fill-color: #FFFFFF;\n",
              "      --disabled-bg-color: #3B4455;\n",
              "      --disabled-fill-color: #666;\n",
              "  }\n",
              "\n",
              "  .colab-df-quickchart {\n",
              "    background-color: var(--bg-color);\n",
              "    border: none;\n",
              "    border-radius: 50%;\n",
              "    cursor: pointer;\n",
              "    display: none;\n",
              "    fill: var(--fill-color);\n",
              "    height: 32px;\n",
              "    padding: 0;\n",
              "    width: 32px;\n",
              "  }\n",
              "\n",
              "  .colab-df-quickchart:hover {\n",
              "    background-color: var(--hover-bg-color);\n",
              "    box-shadow: 0 1px 2px rgba(60, 64, 67, 0.3), 0 1px 3px 1px rgba(60, 64, 67, 0.15);\n",
              "    fill: var(--button-hover-fill-color);\n",
              "  }\n",
              "\n",
              "  .colab-df-quickchart-complete:disabled,\n",
              "  .colab-df-quickchart-complete:disabled:hover {\n",
              "    background-color: var(--disabled-bg-color);\n",
              "    fill: var(--disabled-fill-color);\n",
              "    box-shadow: none;\n",
              "  }\n",
              "\n",
              "  .colab-df-spinner {\n",
              "    border: 2px solid var(--fill-color);\n",
              "    border-color: transparent;\n",
              "    border-bottom-color: var(--fill-color);\n",
              "    animation:\n",
              "      spin 1s steps(1) infinite;\n",
              "  }\n",
              "\n",
              "  @keyframes spin {\n",
              "    0% {\n",
              "      border-color: transparent;\n",
              "      border-bottom-color: var(--fill-color);\n",
              "      border-left-color: var(--fill-color);\n",
              "    }\n",
              "    20% {\n",
              "      border-color: transparent;\n",
              "      border-left-color: var(--fill-color);\n",
              "      border-top-color: var(--fill-color);\n",
              "    }\n",
              "    30% {\n",
              "      border-color: transparent;\n",
              "      border-left-color: var(--fill-color);\n",
              "      border-top-color: var(--fill-color);\n",
              "      border-right-color: var(--fill-color);\n",
              "    }\n",
              "    40% {\n",
              "      border-color: transparent;\n",
              "      border-right-color: var(--fill-color);\n",
              "      border-top-color: var(--fill-color);\n",
              "    }\n",
              "    60% {\n",
              "      border-color: transparent;\n",
              "      border-right-color: var(--fill-color);\n",
              "    }\n",
              "    80% {\n",
              "      border-color: transparent;\n",
              "      border-right-color: var(--fill-color);\n",
              "      border-bottom-color: var(--fill-color);\n",
              "    }\n",
              "    90% {\n",
              "      border-color: transparent;\n",
              "      border-bottom-color: var(--fill-color);\n",
              "    }\n",
              "  }\n",
              "</style>\n",
              "\n",
              "  <script>\n",
              "    async function quickchart(key) {\n",
              "      const quickchartButtonEl =\n",
              "        document.querySelector('#' + key + ' button');\n",
              "      quickchartButtonEl.disabled = true;  // To prevent multiple clicks.\n",
              "      quickchartButtonEl.classList.add('colab-df-spinner');\n",
              "      try {\n",
              "        const charts = await google.colab.kernel.invokeFunction(\n",
              "            'suggestCharts', [key], {});\n",
              "      } catch (error) {\n",
              "        console.error('Error during call to suggestCharts:', error);\n",
              "      }\n",
              "      quickchartButtonEl.classList.remove('colab-df-spinner');\n",
              "      quickchartButtonEl.classList.add('colab-df-quickchart-complete');\n",
              "    }\n",
              "    (() => {\n",
              "      let quickchartButtonEl =\n",
              "        document.querySelector('#df-2f02ba20-c995-4d61-a5b6-abf7a8cc9b8f button');\n",
              "      quickchartButtonEl.style.display =\n",
              "        google.colab.kernel.accessAllowed ? 'block' : 'none';\n",
              "    })();\n",
              "  </script>\n",
              "</div>\n",
              "\n",
              "    </div>\n",
              "  </div>\n"
            ]
          },
          "metadata": {},
          "execution_count": 7
        }
      ],
      "source": [
        "df.head()"
      ]
    },
    {
      "cell_type": "code",
      "execution_count": 8,
      "metadata": {
        "id": "AQS4HGykK9sh",
        "colab": {
          "base_uri": "https://localhost:8080/"
        },
        "outputId": "da880bff-9d8e-4526-aa7a-1967b2cf2e8b"
      },
      "outputs": [
        {
          "output_type": "execute_result",
          "data": {
            "text/plain": [
              "array([3, 1, 2, 0])"
            ]
          },
          "metadata": {},
          "execution_count": 8
        }
      ],
      "source": [
        "df.Family.unique()"
      ]
    },
    {
      "cell_type": "code",
      "execution_count": 9,
      "metadata": {
        "id": "oHHPduvPAlc3",
        "colab": {
          "base_uri": "https://localhost:8080/"
        },
        "outputId": "32e406ce-c7e4-4112-ca22-bd2eb01c023d"
      },
      "outputs": [
        {
          "output_type": "execute_result",
          "data": {
            "text/plain": [
              "array([0, 1, 2, 3, 4, 5, 6, 7])"
            ]
          },
          "metadata": {},
          "execution_count": 9
        }
      ],
      "source": [
        "df.Genus.unique()"
      ]
    },
    {
      "cell_type": "code",
      "execution_count": 10,
      "metadata": {
        "id": "vIGgSmxIrcIe",
        "colab": {
          "base_uri": "https://localhost:8080/"
        },
        "outputId": "9170fa50-34c1-4619-c89e-77a44f3cf92a"
      },
      "outputs": [
        {
          "output_type": "execute_result",
          "data": {
            "text/plain": [
              "Index(['MFCCs_ 1', 'MFCCs_ 2', 'MFCCs_ 3', 'MFCCs_ 4', 'MFCCs_ 5', 'MFCCs_ 6',\n",
              "       'MFCCs_ 7', 'MFCCs_ 8', 'MFCCs_9', 'MFCCs_10', 'MFCCs_11', 'MFCCs_12',\n",
              "       'MFCCs_13', 'MFCCs_14', 'MFCCs_15', 'MFCCs_16', 'MFCCs_17', 'MFCCs_18',\n",
              "       'MFCCs_19', 'MFCCs_20', 'MFCCs_21', 'Family', 'Genus', 'Species'],\n",
              "      dtype='object')"
            ]
          },
          "metadata": {},
          "execution_count": 10
        }
      ],
      "source": [
        "df.columns"
      ]
    },
    {
      "cell_type": "code",
      "execution_count": 11,
      "metadata": {
        "id": "XMWIXst2rKLy"
      },
      "outputs": [],
      "source": [
        "x_features = ['MFCCs_ 1', 'MFCCs_ 2', 'MFCCs_ 3', 'MFCCs_ 4', 'MFCCs_ 5', 'MFCCs_ 6']"
      ]
    },
    {
      "cell_type": "code",
      "execution_count": 12,
      "metadata": {
        "id": "LWeO-o8srnAO"
      },
      "outputs": [],
      "source": [
        "X = df[x_features].values\n",
        "y = df['Genus'].values.reshape(-1,1)"
      ]
    },
    {
      "cell_type": "markdown",
      "metadata": {
        "id": "s2H2IZtD9QDz"
      },
      "source": [
        "## Part 1 : Decision Trees"
      ]
    },
    {
      "cell_type": "code",
      "execution_count": 13,
      "metadata": {
        "id": "7aLyHWa4sSOO"
      },
      "outputs": [],
      "source": [
        "class Node():\n",
        "    \"\"\"\n",
        "    A class representing a node in a decision tree.\n",
        "    \"\"\"\n",
        "\n",
        "    def __init__(self, feature=None, threshold=None, left=None, right=None, gain=None, value=None):\n",
        "\n",
        "        self.feature = feature\n",
        "        self.threshold = threshold\n",
        "        self.left = left\n",
        "        self.right = right\n",
        "        self.gain = gain\n",
        "        self.value = value\n"
      ]
    },
    {
      "cell_type": "code",
      "execution_count": 14,
      "metadata": {
        "id": "Nuvu9h09sTTR"
      },
      "outputs": [],
      "source": [
        "class DecisionTree():\n",
        "\n",
        "    def __init__(self, min_samples=2, max_depth=2):\n",
        "\n",
        "        self.min_samples = min_samples\n",
        "        self.max_depth = max_depth\n",
        "\n",
        "    def split_data(self, dataset, feature, threshold):\n",
        "\n",
        "        # Creating empty arrays to store the left and right datasets\n",
        "        left_dataset = []\n",
        "        right_dataset = []\n",
        "\n",
        "        for row in dataset:\n",
        "            if row[feature] <= threshold:\n",
        "                left_dataset.append(row)\n",
        "            else:\n",
        "                right_dataset.append(row)\n",
        "\n",
        "        # Convert the left and right datasets to numpy arrays and return\n",
        "        left_dataset = np.array(left_dataset)\n",
        "        right_dataset = np.array(right_dataset)\n",
        "        return left_dataset, right_dataset\n",
        "\n",
        "    def entropy(self, y):\n",
        "\n",
        "        entropy = 0\n",
        "\n",
        "\n",
        "        labels = np.unique(y)\n",
        "        for label in labels:\n",
        "\n",
        "            label_examples = y[y == label]\n",
        "\n",
        "            pl = len(label_examples) / len(y)\n",
        "            # Calculating the entropy using the current label and weight\n",
        "            entropy += -pl * np.log2(pl)\n",
        "\n",
        "\n",
        "        return entropy\n",
        "\n",
        "    def information_gain(self, parent, left, right):\n",
        "\n",
        "        # setting initial information gain to 0\n",
        "        information_gain = 0\n",
        "        # compute entropy for parent\n",
        "        parent_entropy = self.entropy(parent)\n",
        "        # calculating weight for left and right nodes\n",
        "        weight_left = len(left) / len(parent)\n",
        "        weight_right= len(right) / len(parent)\n",
        "        # computing entropy for left and right nodes\n",
        "        entropy_left, entropy_right = self.entropy(left), self.entropy(right)\n",
        "        # weighted entropy calculation\n",
        "        weighted_entropy = weight_left * entropy_left + weight_right * entropy_right\n",
        "        # information gain calculation\n",
        "        information_gain = parent_entropy - weighted_entropy\n",
        "        return information_gain\n",
        "\n",
        "\n",
        "    def best_split(self, dataset, num_samples, num_features):\n",
        "\n",
        "        # dictionary to store the best split values\n",
        "        best_split = {'gain':- 1, 'feature': None, 'threshold': None}\n",
        "        # loop over all the features\n",
        "        for feature_index in range(num_features):\n",
        "            #get the feature at the current feature_index\n",
        "            feature_values = dataset[:, feature_index]\n",
        "            #get unique values of that feature\n",
        "            thresholds = np.unique(feature_values)\n",
        "            # loop over all thresholds of the feature\n",
        "            for threshold in thresholds:\n",
        "                # get left and right datasets\n",
        "                left_dataset, right_dataset = self.split_data(dataset, feature_index, threshold)\n",
        "                # check if either datasets is empty\n",
        "                if len(left_dataset) and len(right_dataset):\n",
        "                    # get y values of the parent and left, right nodes\n",
        "                    y, left_y, right_y = dataset[:, -1], left_dataset[:, -1], right_dataset[:, -1]\n",
        "                    # compute information gain based on the y values\n",
        "                    information_gain = self.information_gain(y, left_y, right_y)\n",
        "                    # update the best split if conditions are met\n",
        "                    if information_gain > best_split[\"gain\"]:\n",
        "                        best_split[\"feature\"] = feature_index\n",
        "                        best_split[\"threshold\"] = threshold\n",
        "                        best_split[\"left_dataset\"] = left_dataset\n",
        "                        best_split[\"right_dataset\"] = right_dataset\n",
        "                        best_split[\"gain\"] = information_gain\n",
        "        return best_split\n",
        "\n",
        "\n",
        "    def calculate_leaf_value(self, y):\n",
        "\n",
        "        y = list(y)\n",
        "        #get the highest present class in the array\n",
        "        most_occuring_value = max(y, key=y.count)\n",
        "        return most_occuring_value\n",
        "\n",
        "    def build_tree(self, dataset, current_depth=0):\n",
        "\n",
        "        # split the dataset into X, y values\n",
        "        X, y = dataset[:, :-1], dataset[:, -1]\n",
        "        n_samples, n_features = X.shape\n",
        "        # keeps spliting until stopping conditions are met\n",
        "        if n_samples >= self.min_samples and current_depth <= self.max_depth:\n",
        "            # Get the best split\n",
        "            best_split = self.best_split(dataset, n_samples, n_features)\n",
        "            # Check if gain isn't zero\n",
        "            if best_split[\"gain\"]:\n",
        "                # continue splitting the left and the right child. Increment current depth\n",
        "                left_node = self.build_tree(best_split[\"left_dataset\"], current_depth + 1)\n",
        "                right_node = self.build_tree(best_split[\"right_dataset\"], current_depth + 1)\n",
        "                # return decision node\n",
        "                return Node(best_split[\"feature\"], best_split[\"threshold\"],\n",
        "                            left_node, right_node, best_split[\"gain\"])\n",
        "\n",
        "        # compute leaf node value\n",
        "        leaf_value = self.calculate_leaf_value(y)\n",
        "        # return leaf node value\n",
        "        return Node(value=leaf_value)\n",
        "\n",
        "    def fit(self, X, y):\n",
        "\n",
        "        dataset = np.concatenate((X, y), axis=1)\n",
        "        self.root = self.build_tree(dataset)\n",
        "\n",
        "    def predict(self, X):\n",
        "\n",
        "        # Create an empty list to store the predictions\n",
        "        predictions = []\n",
        "        # For each instance in X, make a prediction by traversing the tree\n",
        "        for x in X:\n",
        "            prediction = self.make_prediction(x, self.root)\n",
        "            # Append the prediction to the list of predictions\n",
        "            predictions.append(prediction)\n",
        "        # Convert the list to a numpy array and return it\n",
        "        predictions = np.array(predictions)\n",
        "        return predictions\n",
        "\n",
        "    def make_prediction(self, x, node):\n",
        "\n",
        "        # if the node has value i.e it's a leaf node extract it's value\n",
        "        if node.value != None:\n",
        "            return node.value\n",
        "        else:\n",
        "            #if it's node a leaf node we'll get it's feature and traverse through the tree accordingly\n",
        "            feature = x[node.feature]\n",
        "            if feature <= node.threshold:\n",
        "                return self.make_prediction(x, node.left)\n",
        "            else:\n",
        "                return self.make_prediction(x, node.right)"
      ]
    },
    {
      "cell_type": "code",
      "execution_count": 15,
      "metadata": {
        "id": "T8_U8WoIx2l6",
        "colab": {
          "base_uri": "https://localhost:8080/"
        },
        "outputId": "d94b0919-8738-4275-ae3f-44bca38c036c"
      },
      "outputs": [
        {
          "output_type": "execute_result",
          "data": {
            "text/plain": [
              "(7195, 6)"
            ]
          },
          "metadata": {},
          "execution_count": 15
        }
      ],
      "source": [
        "X.shape"
      ]
    },
    {
      "cell_type": "code",
      "execution_count": 16,
      "metadata": {
        "id": "uptVyXBCx4LM",
        "colab": {
          "base_uri": "https://localhost:8080/"
        },
        "outputId": "70c25738-66d6-420d-a34c-f50bbf83a29f"
      },
      "outputs": [
        {
          "output_type": "execute_result",
          "data": {
            "text/plain": [
              "(7195, 1)"
            ]
          },
          "metadata": {},
          "execution_count": 16
        }
      ],
      "source": [
        "y.shape"
      ]
    },
    {
      "cell_type": "markdown",
      "metadata": {
        "id": "Mxjo_iSnMctM"
      },
      "source": [
        "### Utility Functions"
      ]
    },
    {
      "cell_type": "code",
      "execution_count": 17,
      "metadata": {
        "id": "5EHkjvR3w27r"
      },
      "outputs": [],
      "source": [
        "def train_test_split(X, y, random_state=41, test_size=0.8):\n",
        "\n",
        "    n_samples = X.shape[0]\n",
        "\n",
        "    np.random.seed(random_state)\n",
        "\n",
        "    # Shuffle the indices\n",
        "    shuffled_indices = np.random.permutation(np.arange(n_samples))\n",
        "\n",
        "    test_size = int(n_samples * test_size)\n",
        "    test_indices = shuffled_indices[:test_size]\n",
        "    train_indices = shuffled_indices[test_size:]\n",
        "    X_train, X_test = X[train_indices], X[test_indices]\n",
        "    y_train, y_test = y[train_indices], y[test_indices]\n",
        "\n",
        "    return X_train, X_test, y_train, y_test\n",
        "\n",
        "\n",
        "def accuracy(y_true, y_pred):\n",
        "    y_true = y_true\n",
        "    total_samples = y_true.shape[0]\n",
        "    correct_predictions = np.sum(y_true == y_pred)\n",
        "    #print(correct_predictions, total_samples)\n",
        "    return (correct_predictions / total_samples)\n",
        "\n",
        "def plot_accuracy(x,y,xlabel,ylabel='Accuracy on Test Split',savename='accuracy.png'):\n",
        "  sns.set_style(\"whitegrid\")\n",
        "  sns.lineplot(x= x, y= y)\n",
        "  plt.xlabel(xlabel)\n",
        "  plt.ylabel(ylabel)\n",
        "  plt.savefig(savename)\n",
        "  plt.show()"
      ]
    },
    {
      "cell_type": "code",
      "execution_count": 18,
      "metadata": {
        "id": "75m1eHljxJw3"
      },
      "outputs": [],
      "source": [
        "X_train, X_test, y_train, y_test = train_test_split(X, y, random_state=41, test_size=0.8)"
      ]
    },
    {
      "cell_type": "code",
      "execution_count": 19,
      "metadata": {
        "id": "r6l3BPsZ0KNF",
        "colab": {
          "base_uri": "https://localhost:8080/"
        },
        "outputId": "2180051a-ee89-4b4f-9ad1-e35ba13af9f6"
      },
      "outputs": [
        {
          "output_type": "execute_result",
          "data": {
            "text/plain": [
              "(1439, 6)"
            ]
          },
          "metadata": {},
          "execution_count": 19
        }
      ],
      "source": [
        "X_train.shape"
      ]
    },
    {
      "cell_type": "code",
      "execution_count": 20,
      "metadata": {
        "colab": {
          "base_uri": "https://localhost:8080/"
        },
        "id": "GgGArxULxRYG",
        "outputId": "0a1d0752-efeb-4463-866b-d62614fcc7cf"
      },
      "outputs": [
        {
          "output_type": "stream",
          "name": "stdout",
          "text": [
            "Model's Accuracy: 0.8226198749131342\n"
          ]
        }
      ],
      "source": [
        "#Checking  Decision Tree Pipeline\n",
        "model = DecisionTree(2, 2)\n",
        "model.fit(X_train, y_train)\n",
        "predictions = model.predict(X_test)\n",
        "\n",
        "print(f\"Model's Accuracy: {accuracy(y_test.flatten(), predictions)}\")"
      ]
    },
    {
      "cell_type": "markdown",
      "metadata": {
        "id": "zLezInzkKsrN"
      },
      "source": [
        "Testing the accuracy for depth ranging between 1 to 15."
      ]
    },
    {
      "cell_type": "code",
      "execution_count": 21,
      "metadata": {
        "id": "RH5zf6hRzQwg"
      },
      "outputs": [],
      "source": [
        "depth = []\n",
        "accuracy_list = []\n",
        "for i in range(1,16):\n",
        "  model = DecisionTree(2, i)\n",
        "  model.fit(X_train, y_train)\n",
        "  predictions = model.predict(X_test)\n",
        "  depth.append(i)\n",
        "  accuracy_list.append(accuracy(y_test.flatten(), predictions))"
      ]
    },
    {
      "cell_type": "code",
      "execution_count": 22,
      "metadata": {
        "colab": {
          "base_uri": "https://localhost:8080/",
          "height": 449
        },
        "id": "sI6lzmnazyBs",
        "outputId": "bbe03275-9bbf-453d-ca47-2e78c669ecd1"
      },
      "outputs": [
        {
          "output_type": "display_data",
          "data": {
            "text/plain": [
              "<Figure size 640x480 with 1 Axes>"
            ],
            "image/png": "[encoded data removed]"
          },
          "metadata": {}
        }
      ],
      "source": [
        "plt.plot(depth,accuracy_list)\n",
        "plt.xlabel('Depth of decision Tree')\n",
        "plt.ylabel('Accuracy on Test')\n",
        "plt.savefig('accuracy.png')\n",
        "plt.show()"
      ]
    },
    {
      "cell_type": "markdown",
      "metadata": {
        "id": "mg66ACea3fRt"
      },
      "source": [
        "Observations - We conclude that as the depth of the tree increases the accuracy on test begins to increase however after the depth reaches 7 the accuracy becomes quite steady."
      ]
    },
    {
      "cell_type": "markdown",
      "metadata": {
        "id": "zADzTEZD1Cr_"
      },
      "source": [
        "# Part 2 - k Nearest Neighbours"
      ]
    },
    {
      "cell_type": "code",
      "execution_count": 23,
      "metadata": {
        "id": "8-TlAGGX0ju1"
      },
      "outputs": [],
      "source": [
        "class KNN:\n",
        "\n",
        "    def __init__(self, n_neighbors=5):\n",
        "        self.n_neighbors = n_neighbors\n",
        "\n",
        "    def euclidean_distance(self, x1, x2):\n",
        "\n",
        "        return np.linalg.norm(x1 - x2)\n",
        "\n",
        "    def fit(self, X_train, y_train):\n",
        "\n",
        "        self.X_train = X_train\n",
        "        self.y_train = y_train\n",
        "\n",
        "    def predict(self, X):\n",
        "        predictions = []\n",
        "        for x in X:\n",
        "            prediction = self._predict(x)\n",
        "            predictions.append(prediction)\n",
        "        return np.array(predictions)\n",
        "\n",
        "    def _predict(self, x):\n",
        "\n",
        "        distances = []\n",
        "\n",
        "        for x_train in self.X_train:\n",
        "            distance = self.euclidean_distance(x, x_train)\n",
        "            distances.append(distance)\n",
        "        distances = np.array(distances)\n",
        "\n",
        "        # Sort by distance(ascendingly) and return indices of the given n neighbours\n",
        "        n_neighbors_idxs = np.argsort(distances)[: self.n_neighbors]\n",
        "\n",
        "        # labels of n-neighbour indexes\n",
        "        labels = self.y_train[n_neighbors_idxs]\n",
        "        labels = list(labels)\n",
        "        # Getting the most frequent class in the array\n",
        "        most_occuring_value = max(labels, key=labels.count)\n",
        "        return most_occuring_value"
      ]
    },
    {
      "cell_type": "code",
      "execution_count": 24,
      "metadata": {
        "id": "HcutoxhP7RnK"
      },
      "outputs": [],
      "source": [
        "def train_test_split_knn(X, y, random_state=41, train_size=0.3, test_size=0.1):\n",
        "    n_samples = X.shape[0]\n",
        "    np.random.seed(random_state)\n",
        "    shuffled_indices = np.random.permutation(np.arange(n_samples))\n",
        "    test_size = int(n_samples * test_size)\n",
        "    train_size = int(n_samples * train_size)\n",
        "    test_indices = shuffled_indices[:test_size]\n",
        "    train_indices = shuffled_indices[test_size:test_size + train_size]\n",
        "    X_train, X_test = X[train_indices], X[test_indices]\n",
        "    y_train, y_test = y[train_indices], y[test_indices]\n",
        "\n",
        "    return X_train, X_test, y_train, y_test"
      ]
    },
    {
      "cell_type": "code",
      "execution_count": 25,
      "metadata": {
        "id": "1o9WnXzc6N_C"
      },
      "outputs": [],
      "source": [
        "X_21_features = ['MFCCs_ 1', 'MFCCs_ 2', 'MFCCs_ 3', 'MFCCs_ 4', 'MFCCs_ 5', 'MFCCs_ 6','MFCCs_ 7', 'MFCCs_ 8', 'MFCCs_9', 'MFCCs_10', 'MFCCs_11', 'MFCCs_12','MFCCs_13', 'MFCCs_14', 'MFCCs_15', 'MFCCs_16', 'MFCCs_17', 'MFCCs_18','MFCCs_19', 'MFCCs_20', 'MFCCs_21']"
      ]
    },
    {
      "cell_type": "code",
      "execution_count": 26,
      "metadata": {
        "id": "j8iWMczW6k2W"
      },
      "outputs": [],
      "source": [
        "X_21 = df[X_21_features].values"
      ]
    },
    {
      "cell_type": "code",
      "execution_count": 27,
      "metadata": {
        "id": "OORLGXz06smd"
      },
      "outputs": [],
      "source": [
        "X_train, X_test, y_train, y_test = train_test_split_knn(X_21, y, random_state=41,train_size = 0.3, test_size=0.1)"
      ]
    },
    {
      "cell_type": "code",
      "execution_count": 28,
      "metadata": {
        "colab": {
          "base_uri": "https://localhost:8080/"
        },
        "id": "mfPZC5FI67Re",
        "outputId": "715d66ec-9ec9-43cd-b66f-323558aeed13"
      },
      "outputs": [
        {
          "output_type": "execute_result",
          "data": {
            "text/plain": [
              "((2158, 21), (719, 21))"
            ]
          },
          "metadata": {},
          "execution_count": 28
        }
      ],
      "source": [
        "X_train.shape , X_test.shape"
      ]
    },
    {
      "cell_type": "code",
      "execution_count": 29,
      "metadata": {
        "id": "rb_R7rHX8nC5"
      },
      "outputs": [],
      "source": [
        "neighbors =[]\n",
        "knn_accuracy = []\n",
        "for i in range(1,50):\n",
        "  model_knn = KNN(i)\n",
        "  model_knn.fit(X_train, y_train)\n",
        "  predictions = model_knn.predict(X_test)\n",
        "  accuracy1 = accuracy(y_test, predictions)\n",
        "  neighbors.append(i)\n",
        "  knn_accuracy.append(accuracy1)"
      ]
    },
    {
      "cell_type": "code",
      "execution_count": 30,
      "metadata": {
        "colab": {
          "base_uri": "https://localhost:8080/"
        },
        "id": "BokYaG6EBPNh",
        "outputId": "3afedf58-f89b-4dc1-f846-50fcd358c5b4"
      },
      "outputs": [
        {
          "output_type": "execute_result",
          "data": {
            "text/plain": [
              "0.9207232267037552"
            ]
          },
          "metadata": {},
          "execution_count": 30
        }
      ],
      "source": [
        "accuracy(y_test, predictions)"
      ]
    },
    {
      "cell_type": "code",
      "execution_count": 31,
      "metadata": {
        "colab": {
          "base_uri": "https://localhost:8080/"
        },
        "id": "cqrK01HOCNdQ",
        "outputId": "0399f133-2288-4014-ba0e-f749c656dc79"
      },
      "outputs": [
        {
          "output_type": "execute_result",
          "data": {
            "text/plain": [
              "662"
            ]
          },
          "metadata": {},
          "execution_count": 31
        }
      ],
      "source": [
        "np.sum(predictions == y_test)"
      ]
    },
    {
      "cell_type": "code",
      "execution_count": 32,
      "metadata": {
        "colab": {
          "base_uri": "https://localhost:8080/"
        },
        "id": "ZVHCMyjLBBpw",
        "outputId": "8ad3710c-edcb-47a9-b685-d55c155bca04"
      },
      "outputs": [
        {
          "output_type": "execute_result",
          "data": {
            "text/plain": [
              "((719, 1), (719, 1))"
            ]
          },
          "metadata": {},
          "execution_count": 32
        }
      ],
      "source": [
        "predictions.shape,y_test.shape"
      ]
    },
    {
      "cell_type": "code",
      "execution_count": 32,
      "metadata": {
        "id": "2adzGArvBIF1"
      },
      "outputs": [],
      "source": []
    },
    {
      "cell_type": "code",
      "execution_count": 33,
      "metadata": {
        "colab": {
          "base_uri": "https://localhost:8080/"
        },
        "id": "-D4lYV-RA-bi",
        "outputId": "ea54e622-8a49-46a9-dfb0-0eac32b17a98"
      },
      "outputs": [
        {
          "output_type": "execute_result",
          "data": {
            "text/plain": [
              "0.9207232267037552"
            ]
          },
          "metadata": {},
          "execution_count": 33
        }
      ],
      "source": [
        "accuracy1"
      ]
    },
    {
      "cell_type": "code",
      "execution_count": 34,
      "metadata": {
        "colab": {
          "base_uri": "https://localhost:8080/",
          "height": 449
        },
        "id": "Kly6ZoTJ-mnH",
        "outputId": "172bb12f-63eb-4c9a-d6ab-6d500506c3b9"
      },
      "outputs": [
        {
          "output_type": "display_data",
          "data": {
            "text/plain": [
              "<Figure size 640x480 with 1 Axes>"
            ],
            "image/png": "[encoded data removed]"
          },
          "metadata": {}
        }
      ],
      "source": [
        "plot_accuracy(neighbors,knn_accuracy,xlabel = 'Neighbors',savename = 'knn_accuracy.png')"
      ]
    },
    {
      "cell_type": "markdown",
      "metadata": {
        "id": "Vl7MFvfCphu1"
      },
      "source": [
        "## Part 3 : Using Scikit-Learn functions"
      ]
    },
    {
      "cell_type": "code",
      "execution_count": 35,
      "metadata": {
        "id": "YH6I2Y4ptOFV"
      },
      "outputs": [],
      "source": [
        "import numpy as np\n",
        "import matplotlib.pyplot as plt\n",
        "from sklearn.model_selection import train_test_split\n",
        "from sklearn.tree import DecisionTreeClassifier\n",
        "from sklearn.neighbors import KNeighborsClassifier\n",
        "from sklearn.metrics import accuracy_score"
      ]
    },
    {
      "cell_type": "code",
      "execution_count": 36,
      "metadata": {
        "id": "PANMhY-gtS0q"
      },
      "outputs": [],
      "source": [
        "X_train, X_test, y_train, y_test = train_test_split(X_21, y, test_size=0.2, random_state=42)"
      ]
    },
    {
      "cell_type": "code",
      "execution_count": 37,
      "metadata": {
        "id": "oKBEEhSoth1j"
      },
      "outputs": [],
      "source": [
        "dt_test_accuracies = []\n",
        "depths = range(1, 16)\n",
        "for depth in depths:\n",
        "    dt_classifier = DecisionTreeClassifier(max_depth=depth)\n",
        "    dt_classifier.fit(X_train, y_train)\n",
        "    dt_pred = dt_classifier.predict(X_test)\n",
        "    dt_test_accuracies.append(accuracy_score(y_test, dt_pred))"
      ]
    },
    {
      "cell_type": "code",
      "execution_count": 38,
      "metadata": {
        "colab": {
          "base_uri": "https://localhost:8080/",
          "height": 490
        },
        "id": "PubFcWtitu-t",
        "outputId": "377b2403-18d4-41d4-a7ee-90ce56f8ec6f"
      },
      "outputs": [
        {
          "output_type": "execute_result",
          "data": {
            "text/plain": [
              "<matplotlib.legend.Legend at 0x7b4877e06ef0>"
            ]
          },
          "metadata": {},
          "execution_count": 38
        },
        {
          "output_type": "display_data",
          "data": {
            "text/plain": [
              "<Figure size 640x480 with 1 Axes>"
            ],
            "image/png": "[encoded data removed]"
          },
          "metadata": {}
        }
      ],
      "source": [
        "plt.plot(depths, dt_test_accuracies, label='Decision Tree')\n",
        "plt.title('Decision Tree Test Accuracies')\n",
        "plt.xlabel('Max Depth')\n",
        "plt.ylabel('Accuracy')\n",
        "plt.legend()"
      ]
    },
    {
      "cell_type": "code",
      "execution_count": 38,
      "metadata": {
        "id": "ysj-CNwAt2FY"
      },
      "outputs": [],
      "source": []
    },
    {
      "cell_type": "code",
      "execution_count": 39,
      "metadata": {
        "id": "w5HY2DUQ9_0w"
      },
      "outputs": [],
      "source": [
        "knn_test_accuracies = []\n",
        "k_values = range(1, 1001)\n",
        "for k in k_values:\n",
        "    knn_classifier = KNeighborsClassifier(n_neighbors=k)\n",
        "    knn_classifier.fit(X_train, y_train.flatten())\n",
        "    knn_pred = knn_classifier.predict(X_test)\n",
        "    knn_test_accuracies.append(accuracy_score(y_test.flatten(), knn_pred))\n"
      ]
    },
    {
      "cell_type": "code",
      "execution_count": 40,
      "metadata": {
        "colab": {
          "base_uri": "https://localhost:8080/",
          "height": 490
        },
        "id": "Vh9_RF62vMJT",
        "outputId": "76d845d4-a4a5-4140-8209-916f79100e7e"
      },
      "outputs": [
        {
          "output_type": "execute_result",
          "data": {
            "text/plain": [
              "<matplotlib.legend.Legend at 0x7b4877e7b790>"
            ]
          },
          "metadata": {},
          "execution_count": 40
        },
        {
          "output_type": "display_data",
          "data": {
            "text/plain": [
              "<Figure size 640x480 with 1 Axes>"
            ],
            "image/png": "[encoded data removed]"
          },
          "metadata": {}
        }
      ],
      "source": [
        "plt.plot(k_values, knn_test_accuracies, label='k-NN')\n",
        "plt.title('k-Nearest Neighbors Test Accuracies')\n",
        "plt.xlabel('k')\n",
        "plt.ylabel('Accuracy')\n",
        "plt.legend()"
      ]
    },
    {
      "cell_type": "markdown",
      "metadata": {
        "id": "7MYXng_SxoIW"
      },
      "source": [
        "Plotting all the results of experiments together. Please note that there were difference in training datasets(in terms of shapes and sizes) for the experiments. Hence we notice that the decision tree graphs are not aliged"
      ]
    },
    {
      "cell_type": "code",
      "execution_count": 41,
      "metadata": {
        "colab": {
          "base_uri": "https://localhost:8080/",
          "height": 807
        },
        "id": "470WIPa-uPYB",
        "outputId": "cc528e7a-9da7-486c-b00b-b0379a057de2"
      },
      "outputs": [
        {
          "output_type": "display_data",
          "data": {
            "text/plain": [
              "<Figure size 1000x800 with 4 Axes>"
            ],
            "image/png": "[encoded data removed]"
          },
          "metadata": {}
        }
      ],
      "source": [
        "plt.figure(figsize=(10, 8))\n",
        "\n",
        "plt.subplot(2, 2, 1)\n",
        "plt.plot(range(1,16),accuracy_list)\n",
        "plt.title('Decision Tree - Scratch')\n",
        "plt.xlabel('Max Depth')\n",
        "plt.ylabel('Accuracy on test')\n",
        "\n",
        "\n",
        "plt.subplot(2, 2, 2)\n",
        "plt.plot(neighbors,knn_accuracy)\n",
        "plt.title('k-Nearest Neighbors - scratch')\n",
        "plt.xlabel('Neighbors')\n",
        "plt.ylabel('Accuracy on test')\n",
        "\n",
        "plt.subplot(2, 2, 3)\n",
        "plt.plot(depths, dt_test_accuracies, label='Decision Tree')\n",
        "plt.title('Decision Tree - sklearn')\n",
        "plt.xlabel('Max Depth')\n",
        "plt.ylabel('Accuracy on test')\n",
        "plt.legend()\n",
        "\n",
        "\n",
        "plt.subplot(2, 2, 4)\n",
        "plt.plot(k_values, knn_test_accuracies, label='k-NN')\n",
        "plt.title('k-Nearest Neighbors - sklearn')\n",
        "plt.xlabel('Neighbors')\n",
        "plt.ylabel('Accuracy on test')\n",
        "plt.legend()\n",
        "\n",
        "plt.tight_layout()\n",
        "plt.show()"
      ]
    }
  ],
  "metadata": {
    "colab": {
      "provenance": []
    },
    "kernelspec": {
      "display_name": "Python 3",
      "name": "python3"
    },
    "language_info": {
      "name": "python"
    }
  },
  "nbformat": 4,
  "nbformat_minor": 0
}