{
  "cells": [
    {
      "cell_type": "markdown",
      "metadata": {
        "id": "blv6XBI5GxO9"
      },
      "source": [
        "# SMAI Assignment - 2\n",
        "\n",
        "## Question 1: Naive Bayes and Clustering\n",
        "\n",
        "### Part 1: Naive Bayes\n",
        "\n",
        "[Files](https://drive.google.com/drive/folders/1OUVrOMp2jSSBDJSqvEyXDFTrhiyZnqit?usp=sharing)\n",
        "\n",
        "You will be performing Sentiment Analysis on a product review dataset with reviews from customers and star rating belonging to four classes (1,2,4,5). You can use sklearn for this question. Your tasks are as follows:\n",
        "\n",
        "1.   Clean the text by removing punctations and preprocess them using techniques such as stop word removal, stemming etc. You can explore anything!\n",
        "1.  Create BoW features using the word counts. You can choose the words that form the features such that the performance is optimised. Use the train-test split provided in `train_test_index.pickle` and report any interesting observations based on metrics such as accurarcy, precision, recall and f1 score (You can use Classification report in sklearn).\n",
        "1. Repeat Task 2 with TfIdf features."
      ]
    },
    {
      "cell_type": "code",
      "execution_count": 46,
      "metadata": {},
      "outputs": [],
      "source": [
        "import pickle\n",
        "import pandas as pd\n",
        "from sklearn.feature_extraction.text import CountVectorizer\n",
        "from sklearn.metrics import classification_report\n",
        "from sklearn.feature_extraction.text import TfidfVectorizer"
      ]
    },
    {
      "cell_type": "code",
      "execution_count": 47,
      "metadata": {
        "id": "U0nNsliRUjqd"
      },
      "outputs": [],
      "source": [
        "with open('train_test_index.pickle', 'rb') as handle:\n",
        "    train_test_index_dict = pickle.load(handle)"
      ]
    },
    {
      "cell_type": "code",
      "execution_count": 48,
      "metadata": {},
      "outputs": [
        {
          "data": {
            "text/plain": [
              "dict_keys(['train_index', 'test_index'])"
            ]
          },
          "execution_count": 48,
          "metadata": {},
          "output_type": "execute_result"
        }
      ],
      "source": [
        "train_test_index_dict.keys()"
      ]
    },
    {
      "cell_type": "code",
      "execution_count": 49,
      "metadata": {
        "id": "86GXlinlUz8b"
      },
      "outputs": [
        {
          "data": {
            "text/plain": [
              "(26661, 3)"
            ]
          },
          "execution_count": 49,
          "metadata": {},
          "output_type": "execute_result"
        }
      ],
      "source": [
        "data = pd.read_csv('product_reviews.csv')\n",
        "data.head()\n",
        "data.shape"
      ]
    },
    {
      "cell_type": "markdown",
      "metadata": {},
      "source": [
        "#### Data Preprocessing - Text Cleaning"
      ]
    },
    {
      "cell_type": "code",
      "execution_count": 50,
      "metadata": {},
      "outputs": [],
      "source": [
        "import string\n",
        "\n",
        "\n",
        "# Functions to preprocess the text for better feature extraction.\n",
        "\n",
        "def remove_punctuations(text):\n",
        "    translator = str.maketrans('', '', string.punctuation)\n",
        "    return text.translate(translator)\n",
        "\n",
        "\n",
        "def convert_to_lowercase(text):\n",
        "    return text.lower()\n",
        "\n",
        "def remove_stop_words(text):\n",
        "    stop_words = set([\n",
        "        \"i\", \"me\", \"my\", \"myself\", \"we\", \"our\", \"ours\", \"ourselves\", \"you\", \"your\", \"yours\", \"yourself\", \"yourselves\",\n",
        "        \"he\", \"him\", \"his\", \"himself\", \"she\", \"her\", \"hers\", \"herself\", \"it\", \"its\", \"itself\", \"they\", \"them\", \"their\",\n",
        "        \"theirs\", \"themselves\", \"what\", \"which\", \"who\", \"whom\", \"this\", \"that\", \"these\", \"those\", \"am\", \"is\", \"are\", \"was\",\n",
        "        \"were\", \"be\", \"been\", \"being\", \"have\", \"has\", \"had\", \"having\", \"do\", \"does\", \"did\", \"doing\", \"a\", \"an\", \"the\", \"and\",\n",
        "        \"but\", \"if\", \"or\", \"because\", \"as\", \"until\", \"while\", \"of\", \"at\", \"by\", \"for\", \"with\", \"about\", \"against\", \"between\",\n",
        "        \"into\", \"through\", \"during\", \"before\", \"after\", \"above\", \"below\", \"to\", \"from\", \"up\", \"down\", \"in\", \"out\", \"on\", \"off\",\n",
        "        \"over\", \"under\", \"again\", \"further\", \"then\", \"once\", \"here\", \"there\", \"when\", \"where\", \"why\", \"how\", \"all\", \"any\", \"both\",\n",
        "        \"each\", \"few\", \"more\", \"most\", \"other\", \"some\", \"such\", \"no\", \"nor\", \"not\", \"only\", \"own\", \"same\", \"so\", \"than\", \"too\",\n",
        "        \"very\", \"s\", \"t\", \"can\", \"will\", \"just\", \"don\", \"should\", \"now\"\n",
        "    ])\n",
        "    words = text.split()\n",
        "    filtered_words = [word for word in words if word.lower() not in stop_words]\n",
        "    return ' '.join(filtered_words)\n",
        "\n",
        "def stem_text(text):\n",
        "    # Simple stemming (removing 'ing' and 's' suffixes)\n",
        "    stemmed_words = [word[:-3] if word.endswith('ing') else word[:-1] if word.endswith('s') else word for word in text.split()]\n",
        "    return ' '.join(stemmed_words)\n"
      ]
    },
    {
      "cell_type": "code",
      "execution_count": 51,
      "metadata": {},
      "outputs": [],
      "source": [
        "data['text'] = data['text'].apply(remove_punctuations)\n",
        "data['text'] = data['text'].apply(convert_to_lowercase)\n",
        "data['text'] = data['text'].apply(remove_stop_words)\n",
        "data['text'] = data['text'].apply(stem_text)"
      ]
    },
    {
      "cell_type": "markdown",
      "metadata": {},
      "source": [
        "#### BoW features"
      ]
    },
    {
      "cell_type": "code",
      "execution_count": 52,
      "metadata": {},
      "outputs": [],
      "source": [
        "X_train, X_test = data.iloc[train_test_index_dict['train_index']]['text'], data.iloc[train_test_index_dict['test_index']]['text']\n",
        "y_train, y_test = data.iloc[train_test_index_dict['train_index']]['stars'], data.iloc[train_test_index_dict['test_index']]['stars']"
      ]
    },
    {
      "cell_type": "code",
      "execution_count": 53,
      "metadata": {},
      "outputs": [
        {
          "data": {
            "text/plain": [
              "((17862,), (17862,))"
            ]
          },
          "execution_count": 53,
          "metadata": {},
          "output_type": "execute_result"
        }
      ],
      "source": [
        "X_train.shape,y_train.shape"
      ]
    },
    {
      "cell_type": "markdown",
      "metadata": {},
      "source": [
        "**Bag of Words**"
      ]
    },
    {
      "cell_type": "code",
      "execution_count": 54,
      "metadata": {},
      "outputs": [],
      "source": [
        "vectorizer = CountVectorizer()\n",
        "X_train_bow = vectorizer.fit_transform(X_train)\n",
        "X_test_bow = vectorizer.transform(X_test)"
      ]
    },
    {
      "cell_type": "markdown",
      "metadata": {},
      "source": [
        "**Naive Bayes Algorithm from Scratch**"
      ]
    },
    {
      "cell_type": "code",
      "execution_count": 55,
      "metadata": {},
      "outputs": [],
      "source": [
        "import numpy as np\n",
        "\n",
        "class NaiveBayes:\n",
        "    def __init__(self):\n",
        "        self.prior = None\n",
        "        self.conditional_probs = None\n",
        "        self.classes = None\n",
        "\n",
        "    def fit(self, X_train, y_train):\n",
        "        self.classes = np.unique(y_train)\n",
        "        num_classes = len(self.classes)\n",
        "        num_features = X_train.shape[1]\n",
        "\n",
        "        # Initialize dictionaries to store prior and conditional probabilities\n",
        "        self.prior = {c: 0 for c in self.classes}\n",
        "        self.conditional_probs = {c: np.ones(num_features) for c in self.classes}\n",
        "\n",
        "        # Prior probabilities\n",
        "        total_samples = len(y_train)\n",
        "        for c in self.classes:\n",
        "            num_samples_in_class = np.sum(y_train == c)\n",
        "            self.prior[c] = num_samples_in_class / total_samples\n",
        "\n",
        "        # Calculate conditional probabilities\n",
        "        for c in self.classes:\n",
        "            X_c = X_train[y_train == c]\n",
        "            total_word_counts = np.sum(X_c, axis=0)\n",
        "            total_word_counts_class = np.sum(total_word_counts)\n",
        "            self.conditional_probs[c] = (total_word_counts + 1) / (total_word_counts_class + num_features)\n",
        "\n",
        "    def predict(self, X_test):\n",
        "        predictions = []\n",
        "        for x in X_test:\n",
        "            posteriors = []\n",
        "            for c in self.classes:\n",
        "                # Calculate the log of the posterior probability\n",
        "                posterior = np.log(self.prior[c]) + np.sum(np.log(self.conditional_probs[c]) * x)\n",
        "                posteriors.append(posterior)\n",
        "            # prediction contains the class with the highest probability\n",
        "            prediction = self.classes[np.argmax(posteriors)]\n",
        "            predictions.append(prediction)\n",
        "        return np.array(predictions)\n"
      ]
    },
    {
      "cell_type": "code",
      "execution_count": 56,
      "metadata": {},
      "outputs": [
        {
          "name": "stdout",
          "output_type": "stream",
          "text": [
            "              precision    recall  f1-score   support\n",
            "\n",
            "         1.0       0.74      0.76      0.75      1149\n",
            "         2.0       0.40      0.06      0.10       587\n",
            "         4.0       0.48      0.48      0.48      1981\n",
            "         5.0       0.78      0.85      0.82      5082\n",
            "\n",
            "    accuracy                           0.70      8799\n",
            "   macro avg       0.60      0.54      0.54      8799\n",
            "weighted avg       0.68      0.70      0.68      8799\n",
            "\n"
          ]
        }
      ],
      "source": [
        "nb_classifier = NaiveBayes()\n",
        "\n",
        "# Train the classifier\n",
        "nb_classifier.fit(X_train_bow.toarray(), y_train)\n",
        "y_pred_nb = nb_classifier.predict(X_test_bow.toarray())\n",
        "\n",
        "\n",
        "# ---------------- Classification Report --------------------\n",
        "\n",
        "print(classification_report(y_test, y_pred_nb))\n"
      ]
    },
    {
      "cell_type": "markdown",
      "metadata": {},
      "source": [
        "#### TFIDF "
      ]
    },
    {
      "cell_type": "code",
      "execution_count": 57,
      "metadata": {},
      "outputs": [],
      "source": [
        "tfidf_vectorizer = TfidfVectorizer()\n",
        "\n",
        "# Fit and transform the data\n",
        "X_tfidf_train = tfidf_vectorizer.fit_transform(X_train)\n",
        "X_tfidf_test = tfidf_vectorizer.transform(X_test)\n"
      ]
    },
    {
      "cell_type": "code",
      "execution_count": 58,
      "metadata": {},
      "outputs": [
        {
          "data": {
            "text/plain": [
              "((17862, 23232), (17862,))"
            ]
          },
          "execution_count": 58,
          "metadata": {},
          "output_type": "execute_result"
        }
      ],
      "source": [
        "X_tfidf_train.shape,y_train.shape"
      ]
    },
    {
      "cell_type": "code",
      "execution_count": 59,
      "metadata": {},
      "outputs": [
        {
          "name": "stdout",
          "output_type": "stream",
          "text": [
            "              precision    recall  f1-score   support\n",
            "\n",
            "         1.0       0.94      0.10      0.19      1149\n",
            "         2.0       0.00      0.00      0.00       587\n",
            "         4.0       0.48      0.01      0.02      1981\n",
            "         5.0       0.59      1.00      0.74      5082\n",
            "\n",
            "    accuracy                           0.59      8799\n",
            "   macro avg       0.50      0.28      0.24      8799\n",
            "weighted avg       0.57      0.59      0.46      8799\n",
            "\n"
          ]
        },
        {
          "name": "stderr",
          "output_type": "stream",
          "text": [
            "/Users/souvikg544/miniconda3/envs/classicml/lib/python3.10/site-packages/sklearn/metrics/_classification.py:1471: UndefinedMetricWarning: Precision and F-score are ill-defined and being set to 0.0 in labels with no predicted samples. Use `zero_division` parameter to control this behavior.\n",
            "  _warn_prf(average, modifier, msg_start, len(result))\n",
            "/Users/souvikg544/miniconda3/envs/classicml/lib/python3.10/site-packages/sklearn/metrics/_classification.py:1471: UndefinedMetricWarning: Precision and F-score are ill-defined and being set to 0.0 in labels with no predicted samples. Use `zero_division` parameter to control this behavior.\n",
            "  _warn_prf(average, modifier, msg_start, len(result))\n",
            "/Users/souvikg544/miniconda3/envs/classicml/lib/python3.10/site-packages/sklearn/metrics/_classification.py:1471: UndefinedMetricWarning: Precision and F-score are ill-defined and being set to 0.0 in labels with no predicted samples. Use `zero_division` parameter to control this behavior.\n",
            "  _warn_prf(average, modifier, msg_start, len(result))\n"
          ]
        }
      ],
      "source": [
        "nb_classifier2 = NaiveBayes()\n",
        "nb_classifier2.fit(X_tfidf_train.toarray(), y_train)\n",
        "y_pred_tfidf_nb = nb_classifier2.predict(X_tfidf_test.toarray())\n",
        "\n",
        "# --------------- Classification Report ----------------\n",
        "print(classification_report(y_test, y_pred_tfidf_nb))"
      ]
    },
    {
      "cell_type": "markdown",
      "metadata": {
        "id": "T8GYzpkuUcs6"
      },
      "source": [
        "### Part 2: Clustering\n",
        "\n",
        "You will be performing kmeans clustering on the same product reviews dataset from Part 1. In this question, instead of statistically computing features, you will use the embeddings obtained from a neural sentiment analysis model (huggingface: siebert/sentiment-roberta-large-english).\n",
        "\n",
        "You can use sklearn for this question. Your tasks are as follows:\n",
        "\n",
        "\n",
        "1. Perform kmeans clustering using sklearn. Try various values for number of clusters (k) and plot the elbow curve. For each value of k, plot WCSS (Within-Cluster Sum of Square). WCSS is the sum of the squared distance between each point and the centroid in a cluster.\n",
        "1. Perform task 1 with cluster initialisation methods [k-means++, forgy (\"random\" in sklearn)].\n",
        "1. In this case, since the ground truth labels (star rating) are available we can evaluate the clustering using metrics like purity, nmi and rand score. Implement these metrics from scratch and evaluate the clustering. [Reference](https://nlp.stanford.edu/IR-book/html/htmledition/evaluation-of-clustering-1.html)"
      ]
    },
    {
      "cell_type": "code",
      "execution_count": 60,
      "metadata": {
        "id": "5ddsz-nxGvfE"
      },
      "outputs": [
        {
          "name": "stdout",
          "output_type": "stream",
          "text": [
            "(26661, 1024)\n"
          ]
        }
      ],
      "source": [
        "import gzip\n",
        "import numpy as np\n",
        "\n",
        "f = gzip.GzipFile('roberta_embeds.npy.gz', \"r\")\n",
        "embeds = np.load(f)\n",
        "print(embeds.shape)"
      ]
    },
    {
      "cell_type": "code",
      "execution_count": 97,
      "metadata": {},
      "outputs": [],
      "source": [
        "import numpy as np\n",
        "import matplotlib.pyplot as plt\n",
        "from sklearn.cluster import KMeans\n",
        "from sklearn.metrics import pairwise_distances_argmin_min\n",
        "from sklearn.metrics import normalized_mutual_info_score, adjusted_rand_score\n",
        "\n",
        "# Function to plot the elbow curve\n",
        "def plot_elbow_curve(data, max_clusters,init):\n",
        "    wcss = []  # Within-Cluster Sum of Square\n",
        "\n",
        "    for i in range(1, max_clusters + 1):\n",
        "        kmeans = KMeans(n_clusters=i, init=init, random_state=42,n_init='auto')\n",
        "        kmeans.fit(data)\n",
        "        wcss.append(kmeans.inertia_)\n",
        "\n",
        "    plt.plot(range(1, max_clusters + 1), wcss, marker='o')\n",
        "    plt.title(f'Elbow Curve for K means initialization = {init}')\n",
        "    plt.xlabel('Number of clusters (k)')\n",
        "    plt.ylabel('WCSS')\n",
        "    plt.show()\n",
        "\n",
        "# Function to perform KMeans clustering with different initialization methods\n",
        "def perform_kmeans(data, k, initialization):\n",
        "    kmeans = KMeans(n_clusters=k, init=initialization, random_state=42)\n",
        "    kmeans.fit(data)\n",
        "    centroids = kmeans.cluster_centers_\n",
        "    labels = kmeans.labels_\n",
        "    return centroids, labels, kmeans\n",
        "\n",
        "# Function to calculate purity\n",
        "def purity_score(y_true, y_pred):\n",
        "    contingency_matrix = np.zeros((len(np.unique(y_pred)), len(np.unique(y_pred))))\n",
        "    #print(contingency_matrix.shape)\n",
        "    for i, j in zip(y_true, y_pred):\n",
        "        contingency_matrix[int(i-1),int(j-1)] +=1\n",
        "    \n",
        "    return np.sum(np.amax(contingency_matrix, axis=0)) / np.sum(contingency_matrix)\n",
        "\n",
        "# Function to calculate NMI\n",
        "def calculate_nmi(y_true, y_pred):\n",
        "    return normalized_mutual_info_score(y_true, y_pred)\n",
        "\n",
        "# Function to calculate Rand Score\n",
        "def calculate_rand_score(y_true, y_pred):\n",
        "    return adjusted_rand_score(y_true, y_pred)\n"
      ]
    },
    {
      "cell_type": "code",
      "execution_count": 62,
      "metadata": {},
      "outputs": [
        {
          "data": {
            "image/png": "[encoded data removed]",
            "text/plain": [
              "<Figure size 640x480 with 1 Axes>"
            ]
          },
          "metadata": {},
          "output_type": "display_data"
        },
        {
          "data": {
            "image/png": "[encoded data removed]",
            "text/plain": [
              "<Figure size 640x480 with 1 Axes>"
            ]
          },
          "metadata": {},
          "output_type": "display_data"
        }
      ],
      "source": [
        "# Task 2: Perform KMeans clustering with different initialization methods\n",
        "plot_elbow_curve(embeds, max_clusters=15, init= 'k-means++')\n",
        "\n",
        "#centroids_forgy, labels_forgy, kmeans_foggy = perform_kmeans(embeds, k, 'random')\n",
        "plot_elbow_curve(embeds, max_clusters=15, init = 'random')"
      ]
    },
    {
      "cell_type": "code",
      "execution_count": 94,
      "metadata": {},
      "outputs": [
        {
          "name": "stderr",
          "output_type": "stream",
          "text": [
            "/Users/souvikg544/miniconda3/envs/classicml/lib/python3.10/site-packages/sklearn/cluster/_kmeans.py:1416: FutureWarning: The default value of `n_init` will change from 10 to 'auto' in 1.4. Set the value of `n_init` explicitly to suppress the warning\n",
            "  super()._check_params_vs_input(X, default_n_init=10)\n"
          ]
        }
      ],
      "source": [
        "k = 5  # Number of clusters\n",
        "centroids_kmeanspp, labels_kmeans_pp, kmeans_pp = perform_kmeans(embeds, k, 'k-means++')"
      ]
    },
    {
      "cell_type": "code",
      "execution_count": 98,
      "metadata": {},
      "outputs": [
        {
          "name": "stdout",
          "output_type": "stream",
          "text": [
            "Purity = 0.711113611642474 NMI = 0.4609757420802488 Rand Score = 0.4549202171023023\n"
          ]
        }
      ],
      "source": [
        "ground_truth_labels = data['stars'].to_numpy().astype(int)\n",
        "\n",
        "\n",
        "purity_kmeans_pp = purity_score(ground_truth_labels, labels_kmeans_pp)\n",
        "nmi_kmeans_pp = calculate_nmi(ground_truth_labels, labels_kmeans_pp)\n",
        "rand = calculate_rand_score(ground_truth_labels, labels_kmeans_pp)\n",
        "print(f\"Purity = {purity_kmeans_pp} NMI = {nmi_kmeans_pp} Rand Score = {rand}\")"
      ]
    }
  ],
  "metadata": {
    "colab": {
      "provenance": []
    },
    "kernelspec": {
      "display_name": "classicml",
      "language": "python",
      "name": "python3"
    },
    "language_info": {
      "codemirror_mode": {
        "name": "ipython",
        "version": 3
      },
      "file_extension": ".py",
      "mimetype": "text/x-python",
      "name": "python",
      "nbconvert_exporter": "python",
      "pygments_lexer": "ipython3",
      "version": "3.10.13"
    }
  },
  "nbformat": 4,
  "nbformat_minor": 0
}
