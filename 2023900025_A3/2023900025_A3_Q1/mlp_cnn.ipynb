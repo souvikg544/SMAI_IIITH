{
 "cells": [
  {
   "cell_type": "code",
   "execution_count": 2,
   "id": "b366beb8-cf14-4839-b768-319e020128f5",
   "metadata": {},
   "outputs": [],
   "source": [
    "import torch\n",
    "import torch.nn as nn\n",
    "import torch.optim as optim\n",
    "import torchvision\n",
    "from torch.utils.data import Dataset\n",
    "from torchvision.transforms import v2\n",
    "import pickle\n",
    "import numpy as np\n",
    "import matplotlib.pyplot as plt\n",
    "from torch.utils.data import DataLoader\n",
    "import torchvision.models as models"
   ]
  },
  {
   "cell_type": "markdown",
   "id": "f1a4de70-d662-4185-b4dd-d89336576601",
   "metadata": {},
   "source": [
    "**Download CIFAR-10 and CIFAR-100 from the provided links.**"
   ]
  },
  {
   "cell_type": "code",
   "execution_count": 5,
   "id": "9d45aa8a-ef94-4391-bfe8-f03870fae3cc",
   "metadata": {},
   "outputs": [
    {
     "name": "stdout",
     "output_type": "stream",
     "text": [
      "--2024-03-28 19:58:13--  https://www.cs.toronto.edu/~kriz/cifar-10-python.tar.gz\n",
      "Resolving www.cs.toronto.edu (www.cs.toronto.edu)... 128.100.3.30\n",
      "Connecting to www.cs.toronto.edu (www.cs.toronto.edu)|128.100.3.30|:443... connected.\n",
      "HTTP request sent, awaiting response... 200 OK\n",
      "Length: 170498071 (163M) [application/x-gzip]\n",
      "Saving to: ‘/ssd_scratch/cvit/sou/cifar-10-python.tar.gz’\n",
      "\n",
      "cifar-10-python.tar 100%[===================>] 162.60M   778KB/s    in 4m 18s  \n",
      "\n",
      "2024-03-28 20:02:33 (646 KB/s) - ‘/ssd_scratch/cvit/sou/cifar-10-python.tar.gz’ saved [170498071/170498071]\n",
      "\n"
     ]
    }
   ],
   "source": [
    "! wget -P /ssd_scratch/cvit/sou/ https://www.cs.toronto.edu/~kriz/cifar-10-python.tar.gz"
   ]
  },
  {
   "cell_type": "code",
   "execution_count": 6,
   "id": "f577f200-6992-4f52-87c3-b0a41a7e34fc",
   "metadata": {},
   "outputs": [
    {
     "name": "stdout",
     "output_type": "stream",
     "text": [
      "--2024-03-28 20:02:33--  https://www.cs.toronto.edu/~kriz/cifar-100-python.tar.gz\n",
      "Resolving www.cs.toronto.edu (www.cs.toronto.edu)... 128.100.3.30\n",
      "Connecting to www.cs.toronto.edu (www.cs.toronto.edu)|128.100.3.30|:443... connected.\n",
      "HTTP request sent, awaiting response... 200 OK\n",
      "Length: 169001437 (161M) [application/x-gzip]\n",
      "Saving to: ‘/ssd_scratch/cvit/sou/cifar-100-python.tar.gz’\n",
      "\n",
      "cifar-100-python.ta 100%[===================>] 161.17M  7.78MB/s    in 44s     \n",
      "\n",
      "2024-03-28 20:03:18 (3.69 MB/s) - ‘/ssd_scratch/cvit/sou/cifar-100-python.tar.gz’ saved [169001437/169001437]\n",
      "\n"
     ]
    }
   ],
   "source": [
    "! wget -P /ssd_scratch/cvit/sou/ https://www.cs.toronto.edu/~kriz/cifar-100-python.tar.gz"
   ]
  },
  {
   "cell_type": "code",
   "execution_count": 6,
   "id": "4614f103-53a2-45a0-84b6-ce16927d98d2",
   "metadata": {},
   "outputs": [
    {
     "name": "stdout",
     "output_type": "stream",
     "text": [
      "cifar-10-batches-py/\n",
      "cifar-10-batches-py/data_batch_4\n",
      "cifar-10-batches-py/readme.html\n",
      "cifar-10-batches-py/test_batch\n",
      "cifar-10-batches-py/data_batch_3\n",
      "cifar-10-batches-py/batches.meta\n",
      "cifar-10-batches-py/data_batch_2\n",
      "cifar-10-batches-py/data_batch_5\n",
      "cifar-10-batches-py/data_batch_1\n",
      "cifar-100-python/\n",
      "cifar-100-python/file.txt~\n",
      "cifar-100-python/train\n",
      "cifar-100-python/test\n",
      "cifar-100-python/meta\n"
     ]
    }
   ],
   "source": [
    "! tar -xzvf /ssd_scratch/cvit/sou/cifar-10-python.tar.gz\n",
    "! tar -xzvf /ssd_scratch/cvit/sou/cifar-100-python.tar.gz"
   ]
  },
  {
   "cell_type": "markdown",
   "id": "49c88b7d-1b10-4663-8b91-b9b854b7daba",
   "metadata": {},
   "source": [
    "**Data Exploration**"
   ]
  },
  {
   "cell_type": "code",
   "execution_count": 7,
   "id": "a3997eda-8420-4c64-9b13-1efd7f75db2d",
   "metadata": {},
   "outputs": [],
   "source": [
    "def unpickle(file):\n",
    "    with open(file, 'rb') as fo:\n",
    "        dict = pickle.load(fo, encoding='bytes')\n",
    "    return dict"
   ]
  },
  {
   "cell_type": "code",
   "execution_count": 8,
   "id": "1f507a89-22f5-4d5b-9cc3-f32e1a4f1ab6",
   "metadata": {},
   "outputs": [],
   "source": [
    "train_cf10 = unpickle('/ssd_scratch/cvit/sou/cifar-10-batches-py/data_batch_1')"
   ]
  },
  {
   "cell_type": "code",
   "execution_count": 9,
   "id": "be7c75e1-68fd-4085-9acb-df68b707df5a",
   "metadata": {},
   "outputs": [
    {
     "data": {
      "text/plain": [
       "dict_keys([b'batch_label', b'labels', b'data', b'filenames'])"
      ]
     },
     "execution_count": 9,
     "metadata": {},
     "output_type": "execute_result"
    }
   ],
   "source": [
    "train_cf10.keys()"
   ]
  },
  {
   "cell_type": "code",
   "execution_count": 10,
   "id": "f03b8d57-2b7e-4c80-9600-37212e149b48",
   "metadata": {},
   "outputs": [
    {
     "data": {
      "text/plain": [
       "10000"
      ]
     },
     "execution_count": 10,
     "metadata": {},
     "output_type": "execute_result"
    }
   ],
   "source": [
    "len(train_cf10[b'labels'])"
   ]
  },
  {
   "cell_type": "code",
   "execution_count": 11,
   "id": "9b517278-e29e-4a36-b1d4-5b8ad9546881",
   "metadata": {},
   "outputs": [
    {
     "data": {
      "text/plain": [
       "numpy.ndarray"
      ]
     },
     "execution_count": 11,
     "metadata": {},
     "output_type": "execute_result"
    }
   ],
   "source": [
    "type(train_cf10[b'data'])"
   ]
  },
  {
   "cell_type": "code",
   "execution_count": 12,
   "id": "0394e595-f382-4779-9338-4d9a220982bc",
   "metadata": {},
   "outputs": [
    {
     "data": {
      "text/plain": [
       "(10000, 3072)"
      ]
     },
     "execution_count": 12,
     "metadata": {},
     "output_type": "execute_result"
    }
   ],
   "source": [
    "train_cf10[b'data'].shape"
   ]
  },
  {
   "cell_type": "code",
   "execution_count": 13,
   "id": "a4c71542-75ec-42f2-8f4c-17d27b24c634",
   "metadata": {},
   "outputs": [
    {
     "data": {
      "text/plain": [
       "10000"
      ]
     },
     "execution_count": 13,
     "metadata": {},
     "output_type": "execute_result"
    }
   ],
   "source": [
    "len(train_cf10[b'filenames'])"
   ]
  },
  {
   "cell_type": "code",
   "execution_count": 14,
   "id": "62c4cc32-ffce-439a-8ad5-ea35f4bad1d2",
   "metadata": {},
   "outputs": [
    {
     "data": {
      "text/plain": [
       "b'abandoned_ship_s_000574.png'"
      ]
     },
     "execution_count": 14,
     "metadata": {},
     "output_type": "execute_result"
    }
   ],
   "source": [
    "train_cf10[b'filenames'][100]"
   ]
  },
  {
   "cell_type": "code",
   "execution_count": 15,
   "id": "0fd59441-eba1-4c15-bc61-a13f93cb2dca",
   "metadata": {},
   "outputs": [],
   "source": [
    "image_array = train_cf10[b'data'][100]\n",
    "label = str(train_cf10[b'filenames'][100]).split('_')[0].replace(r\"b'\",\"\")"
   ]
  },
  {
   "cell_type": "code",
   "execution_count": 16,
   "id": "452f28a5-ce6f-4664-aa71-c4a6d127caca",
   "metadata": {},
   "outputs": [
    {
     "name": "stdout",
     "output_type": "stream",
     "text": [
      "Label is -- abandoned\n"
     ]
    },
    {
     "data": {
      "image/png": "[encoded data removed]",
      "text/plain": [
       "<Figure size 300x300 with 1 Axes>"
      ]
     },
     "metadata": {},
     "output_type": "display_data"
    }
   ],
   "source": [
    "plt.figure(figsize=(3,3))\n",
    "image_R = np.reshape(image_array[0:1024], (32,32))\n",
    "image_G = np.reshape(image_array[1024:2048], (32,32))\n",
    "image_B = np.reshape(image_array[2048:4096], (32,32))\n",
    "image = np.dstack((image_R, image_G, image_B))\n",
    "print(\"Label is --\",label)\n",
    "plt.imshow(image)\n",
    "plt.show()\n"
   ]
  },
  {
   "cell_type": "code",
   "execution_count": 17,
   "id": "37e58ccf-fa6c-4fa7-84a9-e71b4b38db8a",
   "metadata": {},
   "outputs": [
    {
     "data": {
      "text/plain": [
       "6"
      ]
     },
     "execution_count": 17,
     "metadata": {},
     "output_type": "execute_result"
    }
   ],
   "source": [
    "train_cf10[b'labels'][0]"
   ]
  },
  {
   "cell_type": "markdown",
   "id": "490644bd-50e4-459d-992c-9d8d799b07d2",
   "metadata": {},
   "source": [
    "**Building dataloader and traning**"
   ]
  },
  {
   "cell_type": "code",
   "execution_count": 25,
   "id": "448d4493-bf95-41a7-8142-636295606c05",
   "metadata": {},
   "outputs": [],
   "source": [
    "class cifar(Dataset):\n",
    "    def __init__(self, root_dir,train=True):\n",
    "        self.root_dir = root_dir\n",
    "        self.cf10 = unpickle(self.root_dir)\n",
    "        if train:\n",
    "            self.transforms = v2.Compose([\n",
    "                v2.RandomHorizontalFlip(p=0.5),\n",
    "                v2.ToDtype(torch.float32, scale=True),\n",
    "                v2.Normalize(mean=[0.485, 0.456, 0.406], std=[0.229, 0.224, 0.225]),\n",
    "            ])\n",
    "        else :\n",
    "            self.transforms = v2.Compose([\n",
    "                v2.ToDtype(torch.float32, scale=True),\n",
    "                v2.Normalize(mean=[0.485, 0.456, 0.406], std=[0.229, 0.224, 0.225]),\n",
    "            ])\n",
    "\n",
    "    def __len__(self):\n",
    "        return len(train_cf10[b'labels'])\n",
    "\n",
    "    def __getitem__(self, idx):\n",
    "        image_array = self.cf10[b'data'][idx]\n",
    "        image_R = np.reshape(image_array[0:1024], (32,32))\n",
    "        image_G = np.reshape(image_array[1024:2048], (32,32))\n",
    "        image_B = np.reshape(image_array[2048:4096], (32,32))\n",
    "        image = np.dstack((image_R, image_G, image_B))\n",
    "\n",
    "        label = self.cf10[b'labels'][idx]\n",
    "        \n",
    "        image_tensor = torch.FloatTensor(image)\n",
    "        return image_tensor.permute(2,0,1), torch.tensor(label)        \n"
   ]
  },
  {
   "cell_type": "code",
   "execution_count": 26,
   "id": "45685463-5dff-45a5-a1de-f1882b6bbcc1",
   "metadata": {},
   "outputs": [],
   "source": [
    "cifar10_train_dataset = cifar(root_dir = '/ssd_scratch/cvit/sou/cifar-10-batches-py/data_batch_1')\n",
    "cifar10_test_dataset = cifar(root_dir = '/ssd_scratch/cvit/sou/cifar-10-batches-py/test_batch', train=False)\n",
    "train_dataloader_cifar10 = DataLoader(cifar10_train_dataset, batch_size=128, shuffle=True)\n",
    "test_dataloader_cifar10 = DataLoader(cifar10_test_dataset, batch_size=128, shuffle=True)"
   ]
  },
  {
   "cell_type": "code",
   "execution_count": 27,
   "id": "d36ef42c-f09f-4e73-b490-ed9d02405fd3",
   "metadata": {},
   "outputs": [
    {
     "data": {
      "text/plain": [
       "79"
      ]
     },
     "execution_count": 27,
     "metadata": {},
     "output_type": "execute_result"
    }
   ],
   "source": [
    "len(train_dataloader_cifar10)"
   ]
  },
  {
   "cell_type": "code",
   "execution_count": 28,
   "id": "102f7b4f-83bd-4172-87ec-5133a6055265",
   "metadata": {},
   "outputs": [
    {
     "data": {
      "text/plain": [
       "10000"
      ]
     },
     "execution_count": 28,
     "metadata": {},
     "output_type": "execute_result"
    }
   ],
   "source": [
    "cifar10_test_dataset.__len__()"
   ]
  },
  {
   "cell_type": "code",
   "execution_count": 29,
   "id": "f4c16141-3b83-476e-8d23-d59ac58b4cec",
   "metadata": {},
   "outputs": [
    {
     "data": {
      "text/plain": [
       "10000"
      ]
     },
     "execution_count": 29,
     "metadata": {},
     "output_type": "execute_result"
    }
   ],
   "source": [
    "cifar10_train_dataset.__len__()"
   ]
  },
  {
   "cell_type": "code",
   "execution_count": 30,
   "id": "28c7ed50-5f24-4d5e-a235-201fde5d96c3",
   "metadata": {},
   "outputs": [],
   "source": [
    "# Helper Functions"
   ]
  },
  {
   "cell_type": "code",
   "execution_count": 46,
   "id": "f75da97b-ed1e-4937-ad93-db7c91483f8b",
   "metadata": {},
   "outputs": [],
   "source": [
    "softmax = nn.Softmax(dim=1)\n",
    "def calc_accuracy(pred,true):\n",
    "    output = softmax(pred)\n",
    "    _, predicted = torch.max(output.data, 1)\n",
    "    total = true.size(0)\n",
    "    correct = (predicted == true).sum().item()\n",
    "    return correct/total\n",
    "\n",
    "def evaluate(model):\n",
    "    correct = 0\n",
    "    total = 0\n",
    "    with torch.no_grad():\n",
    "        for data in test_dataloader_cifar10:\n",
    "            images, labels = data\n",
    "            outputs = model(images.cuda())\n",
    "            _, predicted = torch.max(outputs.data, 1)\n",
    "            total += labels.size(0)\n",
    "            correct += (predicted == labels.cuda()).sum().item()\n",
    "            \n",
    "    print('Accuracy of the MLP network on the 10000 test images: %d %%' % (\n",
    "        100 * correct / total))\n",
    "    "
   ]
  },
  {
   "cell_type": "markdown",
   "id": "866c15ac-683a-4fc4-8ff1-399a684a9069",
   "metadata": {},
   "source": [
    "## MLP"
   ]
  },
  {
   "cell_type": "code",
   "execution_count": 32,
   "id": "c4372fd3-f085-44c8-becc-33e2c2fe5a34",
   "metadata": {},
   "outputs": [],
   "source": [
    "class MLP(nn.Module):\n",
    "    def __init__(self):\n",
    "        super(MLP, self).__init__()\n",
    "        self.relu = nn.ReLU()\n",
    "        self.mlp_modules=nn.ModuleList([\n",
    "        nn.Linear(3 * 32 * 32, 512),\n",
    "        self.relu,\n",
    "        nn.Linear(512, 256),\n",
    "        self.relu,\n",
    "        nn.Linear(256, 128),\n",
    "        self.relu,\n",
    "        nn.Linear(128, 64),\n",
    "        self.relu,\n",
    "        nn.Linear(64, 10)\n",
    "        ])\n",
    "\n",
    "    def forward(self, x):\n",
    "        for f in self.mlp_modules:\n",
    "            x = f(x)\n",
    "        return x\n"
   ]
  },
  {
   "cell_type": "code",
   "execution_count": 33,
   "id": "3dc61c6c-65ae-4f6b-9e96-bc41c77e7382",
   "metadata": {},
   "outputs": [],
   "source": [
    "device = 'cuda'"
   ]
  },
  {
   "cell_type": "code",
   "execution_count": 34,
   "id": "3a3e62aa-bfb3-4e39-86ba-654e1d4c139e",
   "metadata": {},
   "outputs": [],
   "source": [
    "mlp_model = MLP()\n",
    "mlp_model = mlp_model.to(device)"
   ]
  },
  {
   "cell_type": "code",
   "execution_count": 35,
   "id": "ead195cf-ec4c-452d-8785-7f0598fe255c",
   "metadata": {},
   "outputs": [],
   "source": [
    "criterion = nn.CrossEntropyLoss()"
   ]
  },
  {
   "cell_type": "code",
   "execution_count": 36,
   "id": "8cd7c17b-600f-458d-ae57-df12f643aba5",
   "metadata": {},
   "outputs": [],
   "source": [
    "optimizer = optim.Adam(mlp_model.parameters())"
   ]
  },
  {
   "cell_type": "code",
   "execution_count": 37,
   "id": "dd12bab4-cf24-48d9-89e0-4f8c7527c7b4",
   "metadata": {
    "scrolled": true
   },
   "outputs": [
    {
     "name": "stdout",
     "output_type": "stream",
     "text": [
      "Epoch = 1 ----- Step = 78 ----- Loss = 5.27656826791884 ---- Accuracy = 0.14359177215189872\n",
      "Epoch = 2 ----- Step = 78 ----- Loss = 2.0659641857388653 ---- Accuracy = 0.25375791139240506\n",
      "Epoch = 3 ----- Step = 78 ----- Loss = 2.0214084235927725 ---- Accuracy = 0.2775909810126582\n",
      "Epoch = 4 ----- Step = 78 ----- Loss = 1.9154013908362086 ---- Accuracy = 0.317246835443038\n",
      "Epoch = 5 ----- Step = 78 ----- Loss = 1.8579165497912635 ---- Accuracy = 0.3381131329113924\n",
      "Epoch = 6 ----- Step = 78 ----- Loss = 1.8112899940225142 ---- Accuracy = 0.35176028481012656\n",
      "Epoch = 7 ----- Step = 78 ----- Loss = 1.7823176051996932 ---- Accuracy = 0.36204509493670883\n",
      "Epoch = 8 ----- Step = 78 ----- Loss = 1.7512607302846788 ---- Accuracy = 0.3741099683544304\n",
      "Epoch = 9 ----- Step = 78 ----- Loss = 1.7200835807413994 ---- Accuracy = 0.3837025316455696\n",
      "Epoch = 10 ----- Step = 78 ----- Loss = 1.6873287837716597 ---- Accuracy = 0.39804193037974683\n",
      "Epoch = 11 ----- Step = 78 ----- Loss = 1.6739332540125786 ---- Accuracy = 0.40110759493670883\n",
      "Epoch = 12 ----- Step = 78 ----- Loss = 1.6402685702601565 ---- Accuracy = 0.4117879746835443\n",
      "Epoch = 13 ----- Step = 78 ----- Loss = 1.6423406374605396 ---- Accuracy = 0.41475474683544306\n",
      "Epoch = 14 ----- Step = 78 ----- Loss = 1.638656341576878 ---- Accuracy = 0.41663370253164556\n",
      "Epoch = 15 ----- Step = 78 ----- Loss = 1.6123681506024132 ---- Accuracy = 0.43314873417721517\n",
      "Epoch = 16 ----- Step = 78 ----- Loss = 1.5963409807108626 ---- Accuracy = 0.4274129746835443\n",
      "Epoch = 17 ----- Step = 78 ----- Loss = 1.55886433697954 ---- Accuracy = 0.4419501582278481\n",
      "Epoch = 18 ----- Step = 78 ----- Loss = 1.5436814359471769 ---- Accuracy = 0.4465981012658228\n",
      "Epoch = 19 ----- Step = 78 ----- Loss = 1.4943076794660544 ---- Accuracy = 0.4642998417721519\n",
      "Epoch = 20 ----- Step = 78 ----- Loss = 1.5413051013705097 ---- Accuracy = 0.44966376582278483\n",
      "Epoch = 21 ----- Step = 78 ----- Loss = 1.4806100341338146 ---- Accuracy = 0.4743868670886076\n",
      "Epoch = 22 ----- Step = 78 ----- Loss = 1.4837151599835745 ---- Accuracy = 0.4698378164556962\n",
      "Epoch = 23 ----- Step = 78 ----- Loss = 1.4644526439377024 ---- Accuracy = 0.47151898734177217\n",
      "Epoch = 24 ----- Step = 78 ----- Loss = 1.4608398208135291 ---- Accuracy = 0.47399129746835444\n",
      "Epoch = 25 ----- Step = 78 ----- Loss = 1.4313856574553478 ---- Accuracy = 0.48783623417721517\n",
      "Epoch = 26 ----- Step = 78 ----- Loss = 1.40392349037943 ---- Accuracy = 0.5008900316455697\n",
      "Epoch = 27 ----- Step = 78 ----- Loss = 1.4242008683047718 ---- Accuracy = 0.496934335443038\n",
      "Epoch = 28 ----- Step = 78 ----- Loss = 1.4120579475088963 ---- Accuracy = 0.48941851265822783\n",
      "Epoch = 29 ----- Step = 78 ----- Loss = 1.370211608802216 ---- Accuracy = 0.5060324367088608\n",
      "Epoch = 30 ----- Step = 78 ----- Loss = 1.372233276125751 ---- Accuracy = 0.5104825949367089\n",
      "Epoch = 31 ----- Step = 78 ----- Loss = 1.38781967645959 ---- Accuracy = 0.501681170886076\n",
      "Epoch = 32 ----- Step = 78 ----- Loss = 1.3123412403879287 ---- Accuracy = 0.5325356012658228\n",
      "Epoch = 33 ----- Step = 78 ----- Loss = 1.3077925639816477 ---- Accuracy = 0.5300632911392406\n",
      "Epoch = 34 ----- Step = 78 ----- Loss = 1.272202085845078 ---- Accuracy = 0.539754746835443\n",
      "Epoch = 35 ----- Step = 78 ----- Loss = 1.3092927676212938 ---- Accuracy = 0.5236352848101266\n",
      "Epoch = 36 ----- Step = 78 ----- Loss = 1.263430343398565 ---- Accuracy = 0.5454905063291139\n",
      "Epoch = 37 ----- Step = 78 ----- Loss = 1.2589842035800596 ---- Accuracy = 0.5432159810126582\n",
      "Epoch = 38 ----- Step = 78 ----- Loss = 1.2489965988110892 ---- Accuracy = 0.553995253164557\n",
      "Epoch = 39 ----- Step = 78 ----- Loss = 1.2681473252139515 ---- Accuracy = 0.5422270569620253\n",
      "Epoch = 40 ----- Step = 78 ----- Loss = 1.2592854167841658 ---- Accuracy = 0.5513251582278481\n",
      "Epoch = 41 ----- Step = 78 ----- Loss = 1.222318427472175 ---- Accuracy = 0.564181170886076\n",
      "Epoch = 42 ----- Step = 78 ----- Loss = 1.194980808451206 ---- Accuracy = 0.5736748417721519\n",
      "Epoch = 43 ----- Step = 78 ----- Loss = 1.244434174857562 ---- Accuracy = 0.5543908227848101\n",
      "Epoch = 44 ----- Step = 78 ----- Loss = 1.1895852451083027 ---- Accuracy = 0.5671479430379747\n",
      "Epoch = 45 ----- Step = 78 ----- Loss = 1.122202459769913 ---- Accuracy = 0.5929588607594937\n",
      "Epoch = 46 ----- Step = 78 ----- Loss = 1.173315648036667 ---- Accuracy = 0.580498417721519\n",
      "Epoch = 47 ----- Step = 78 ----- Loss = 1.1455440664593177 ---- Accuracy = 0.5953322784810127\n",
      "Epoch = 48 ----- Step = 78 ----- Loss = 1.1436958924124512 ---- Accuracy = 0.5942444620253164\n",
      "Epoch = 49 ----- Step = 78 ----- Loss = 1.0938039399400543 ---- Accuracy = 0.6043314873417721\n",
      "Epoch = 50 ----- Step = 78 ----- Loss = 1.0846626690671415 ---- Accuracy = 0.612440664556962\n",
      "Epoch = 51 ----- Step = 78 ----- Loss = 1.0334533588795722 ---- Accuracy = 0.6291534810126582\n",
      "Epoch = 52 ----- Step = 78 ----- Loss = 1.0973206079458888 ---- Accuracy = 0.6083860759493671\n",
      "Epoch = 53 ----- Step = 78 ----- Loss = 1.0367125966880895 ---- Accuracy = 0.6255933544303798\n",
      "Epoch = 54 ----- Step = 78 ----- Loss = 1.03469001039674 ---- Accuracy = 0.6239121835443038\n",
      "Epoch = 55 ----- Step = 78 ----- Loss = 1.0405740896357765 ---- Accuracy = 0.6268789556962026\n",
      "Epoch = 56 ----- Step = 78 ----- Loss = 1.041197510459755 ---- Accuracy = 0.6295490506329114\n",
      "Epoch = 57 ----- Step = 78 ----- Loss = 1.0038924224769012 ---- Accuracy = 0.6416139240506329\n",
      "Epoch = 58 ----- Step = 78 ----- Loss = 0.9347960752776906 ---- Accuracy = 0.6604034810126582\n",
      "Epoch = 59 ----- Step = 78 ----- Loss = 0.921983497052253 ---- Accuracy = 0.6663370253164557\n",
      "Epoch = 60 ----- Step = 78 ----- Loss = 0.9029798545414889 ---- Accuracy = 0.6734572784810127\n",
      "Epoch = 61 ----- Step = 78 ----- Loss = 0.954041565520854 ---- Accuracy = 0.6536787974683544\n",
      "Epoch = 62 ----- Step = 78 ----- Loss = 0.9157507110245621 ---- Accuracy = 0.6699960443037974\n",
      "Epoch = 63 ----- Step = 78 ----- Loss = 0.8964857376074489 ---- Accuracy = 0.6782041139240507\n",
      "Epoch = 64 ----- Step = 78 ----- Loss = 0.9164583313314221 ---- Accuracy = 0.6686115506329114\n",
      "Epoch = 65 ----- Step = 78 ----- Loss = 0.927943848356416 ---- Accuracy = 0.6669303797468354\n",
      "Epoch = 66 ----- Step = 78 ----- Loss = 0.884553884403615 ---- Accuracy = 0.6808742088607594\n",
      "Epoch = 67 ----- Step = 78 ----- Loss = 0.8899164765695983 ---- Accuracy = 0.6799841772151899\n",
      "Epoch = 68 ----- Step = 78 ----- Loss = 0.8420376189147369 ---- Accuracy = 0.6970925632911392\n",
      "Epoch = 69 ----- Step = 78 ----- Loss = 0.8110657311693023 ---- Accuracy = 0.7029272151898734\n",
      "Epoch = 70 ----- Step = 78 ----- Loss = 0.8636010409910467 ---- Accuracy = 0.6883900316455697\n",
      "Epoch = 71 ----- Step = 78 ----- Loss = 0.9112103000471864 ---- Accuracy = 0.6762262658227848\n",
      "Epoch = 72 ----- Step = 78 ----- Loss = 0.8251298560371881 ---- Accuracy = 0.6988726265822784\n",
      "Epoch = 73 ----- Step = 78 ----- Loss = 0.8306304005127919 ---- Accuracy = 0.6992681962025317\n",
      "Epoch = 74 ----- Step = 78 ----- Loss = 0.7237697719018671 ---- Accuracy = 0.7409018987341772\n",
      "Epoch = 75 ----- Step = 78 ----- Loss = 0.7942947918855692 ---- Accuracy = 0.7159810126582279\n",
      "Epoch = 76 ----- Step = 78 ----- Loss = 0.7578620148610465 ---- Accuracy = 0.7268591772151899\n",
      "Epoch = 77 ----- Step = 78 ----- Loss = 0.7068433897404731 ---- Accuracy = 0.7491099683544303\n",
      "Epoch = 78 ----- Step = 78 ----- Loss = 0.8155251499972765 ---- Accuracy = 0.703817246835443\n",
      "Epoch = 79 ----- Step = 78 ----- Loss = 0.6663258894334866 ---- Accuracy = 0.7559335443037974\n",
      "Epoch = 80 ----- Step = 78 ----- Loss = 0.731493964225431 ---- Accuracy = 0.7415941455696202\n",
      "Epoch = 81 ----- Step = 78 ----- Loss = 0.670387416323529 ---- Accuracy = 0.7577136075949367\n",
      "Epoch = 82 ----- Step = 78 ----- Loss = 0.6823598055899898 ---- Accuracy = 0.7515822784810127\n",
      "Epoch = 83 ----- Step = 78 ----- Loss = 0.6659615092639681 ---- Accuracy = 0.7598892405063291\n",
      "Epoch = 84 ----- Step = 78 ----- Loss = 0.6989174583290196 ---- Accuracy = 0.7502966772151899\n",
      "Epoch = 85 ----- Step = 78 ----- Loss = 0.6833551503434966 ---- Accuracy = 0.7560324367088608\n",
      "Epoch = 86 ----- Step = 78 ----- Loss = 0.650805987512009 ---- Accuracy = 0.7693829113924051\n",
      "Epoch = 87 ----- Step = 78 ----- Loss = 0.6560070095937464 ---- Accuracy = 0.762559335443038\n",
      "Epoch = 88 ----- Step = 78 ----- Loss = 0.6625088159042068 ---- Accuracy = 0.7589992088607594\n",
      "Epoch = 89 ----- Step = 78 ----- Loss = 0.6301278928412667 ---- Accuracy = 0.7726463607594937\n",
      "Epoch = 90 ----- Step = 78 ----- Loss = 0.5830899824070025 ---- Accuracy = 0.7903481012658228\n",
      "Epoch = 91 ----- Step = 78 ----- Loss = 0.6356977726085277 ---- Accuracy = 0.7729430379746836\n",
      "Epoch = 92 ----- Step = 78 ----- Loss = 0.6244948087613794 ---- Accuracy = 0.7767009493670886\n",
      "Epoch = 93 ----- Step = 78 ----- Loss = 0.7030217232583444 ---- Accuracy = 0.7520767405063291\n",
      "Epoch = 94 ----- Step = 78 ----- Loss = 0.570297833862184 ---- Accuracy = 0.796182753164557\n",
      "Epoch = 95 ----- Step = 78 ----- Loss = 0.5650813243811643 ---- Accuracy = 0.7978639240506329\n",
      "Epoch = 96 ----- Step = 78 ----- Loss = 0.6681649003979526 ---- Accuracy = 0.763943829113924\n",
      "Epoch = 97 ----- Step = 78 ----- Loss = 0.5266182392458373 ---- Accuracy = 0.8144778481012658\n",
      "Epoch = 98 ----- Step = 78 ----- Loss = 0.5316451188129715 ---- Accuracy = 0.8083465189873418\n",
      "Epoch = 99 ----- Step = 78 ----- Loss = 0.6195990190475802 ---- Accuracy = 0.7828322784810127\n",
      "Epoch = 100 ----- Step = 78 ----- Loss = 0.5273793852781947 ---- Accuracy = 0.810818829113924\n",
      "Finished Training\n"
     ]
    }
   ],
   "source": [
    "# Train the MLP model\n",
    "epochs = 100\n",
    "for epoch in range(epochs):  # loop over the dataset multiple times\n",
    "    running_loss = 0.0\n",
    "    accuracy = 0.0\n",
    "    running_total = 0\n",
    "    for i, data in enumerate(train_dataloader_cifar10, 0):\n",
    "        total_len = len(train_dataloader_cifar10) -1\n",
    "        inputs, labels = data\n",
    "\n",
    "        optimizer.zero_grad()\n",
    "\n",
    "        logits = mlp_model(inputs.reshape(inputs.size(0),-1).cuda())\n",
    "        loss = criterion(logits, labels.cuda())\n",
    "        loss.backward()\n",
    "        optimizer.step()\n",
    "\n",
    "        running_loss += loss.item()\n",
    "        running_total +=1\n",
    "        accuracy+=calc_accuracy(logits,labels.cuda())\n",
    "        #if i % 10 == 0 or i == total_len :  # print every 2000 mini-batches\n",
    "        if i == total_len :\n",
    "            print(f\"Epoch = {epoch+1} ----- Step = {i} ----- Loss = {running_loss/running_total} ---- Accuracy = {accuracy/running_total}\")\n",
    "            running_loss = 0.0\n",
    "            accuracy = 0.0\n",
    "            running_total = 0\n",
    "\n",
    "print('Finished Training')\n",
    "\n"
   ]
  },
  {
   "cell_type": "code",
   "execution_count": 38,
   "id": "6a1ab8a1-f3f0-45a0-8154-56e7692e7582",
   "metadata": {},
   "outputs": [
    {
     "name": "stdout",
     "output_type": "stream",
     "text": [
      "Accuracy of the MLP network on the 10000 test images: 42 %\n"
     ]
    }
   ],
   "source": [
    "# Evaluating MLP model on test set\n",
    "correct = 0\n",
    "total = 0\n",
    "with torch.no_grad():\n",
    "    for data in test_dataloader_cifar10:\n",
    "        images, labels = data\n",
    "        outputs = mlp_model(images.reshape(images.size(0),-1).cuda())\n",
    "        _, predicted = torch.max(outputs.data, 1)\n",
    "        total += labels.size(0)\n",
    "        correct += (predicted == labels.cuda()).sum().item()\n",
    "        \n",
    "print('Accuracy of the MLP network on the 10000 test images: %d %%' % (\n",
    "    100 * correct / total))"
   ]
  },
  {
   "cell_type": "markdown",
   "id": "9d96abaa-08b3-4d84-b929-896ba155a203",
   "metadata": {},
   "source": [
    "## CNN"
   ]
  },
  {
   "cell_type": "code",
   "execution_count": 39,
   "id": "a5bc9c46-a7d0-4d80-b474-09260fe4e704",
   "metadata": {},
   "outputs": [],
   "source": [
    "class Conv2dBlock(nn.Module):\n",
    "    def __init__(self, in_channels, out_channels, kernel_size, stride, padding, residual=False, *args, **kwargs):\n",
    "        super().__init__(*args, **kwargs)\n",
    "        self.conv_block = nn.Sequential(\n",
    "                            nn.Conv2d(in_channels, out_channels, kernel_size, stride=stride, padding=padding),\n",
    "                             nn.BatchNorm2d(out_channels)\n",
    "                        )\n",
    "        for layer in self.conv_block:\n",
    "            if isinstance(layer, nn.Conv2d):\n",
    "                nn.init.kaiming_normal_(layer.weight)\n",
    "        self.act = nn.ReLU()\n",
    "        self.residual = residual\n",
    "\n",
    "    def forward(self, x):\n",
    "        out = self.conv_block(x)\n",
    "        if self.residual:\n",
    "            out += x\n",
    "        return self.act(out)\n",
    "\n",
    "\n",
    "class cnn_arch(nn.Module):\n",
    "    def __init__(self, in_channel = 3, num_classes = 10):\n",
    "        super(cnn_arch, self).__init__()\n",
    "\n",
    "        \n",
    "\n",
    "        self.mini_resnet=nn.ModuleList([ \n",
    "            #32\n",
    "            nn.Sequential(\n",
    "                Conv2dBlock(in_channels=in_channel, out_channels=32, kernel_size=(5,5), stride=(2,2), padding=2),\n",
    "                Conv2dBlock(in_channels=32, out_channels=32, kernel_size=(5,5), stride=1, padding=2,residual=True),\n",
    "                nn.Dropout(0.20)\n",
    "            ),\n",
    "            #16\n",
    "            nn.Sequential(\n",
    "                Conv2dBlock(in_channels=32, out_channels=64, kernel_size=(5,5), stride=(2,2), padding=2),\n",
    "                Conv2dBlock(in_channels=64, out_channels=64, kernel_size=(5,5), stride=1, padding=2,residual=True),\n",
    "                nn.Dropout(0.20)\n",
    "            ),\n",
    "            \n",
    "            #8\n",
    "            nn.Sequential(\n",
    "                Conv2dBlock(in_channels=64, out_channels=128, kernel_size=(5,5), stride=(2,2), padding=2),\n",
    "                Conv2dBlock(in_channels=128, out_channels=128, kernel_size=(5,5), stride=1, padding=2,residual=True),\n",
    "                nn.Dropout(0.20)\n",
    "            )])\n",
    "            \n",
    "\n",
    "        self.relu = nn.ReLU()\n",
    "        \n",
    "        self.fc1 = nn.Linear(128*4*4, 128)\n",
    "        self.fc2 = nn.Linear(128,num_classes)\n",
    "        \n",
    "\n",
    "    def forward(self, x):\n",
    "        b, c, h, w = x.size()\n",
    "        for f in self.mini_resnet:\n",
    "            x = f(x)\n",
    "        x = x.view(x.size()[0],-1)\n",
    "        x = self.relu(self.fc1(x))\n",
    "        x = self.fc2(x)\n",
    "        return x\n"
   ]
  },
  {
   "cell_type": "code",
   "execution_count": 40,
   "id": "9264ad2d-558c-4507-8413-b06acdc60760",
   "metadata": {},
   "outputs": [],
   "source": [
    "cnn = cnn_arch()"
   ]
  },
  {
   "cell_type": "code",
   "execution_count": 41,
   "id": "213ec3aa-6ea5-48e7-a60a-49e39a511bb8",
   "metadata": {},
   "outputs": [],
   "source": [
    "x = cnn(torch.rand((16,3,32,32)))"
   ]
  },
  {
   "cell_type": "code",
   "execution_count": 42,
   "id": "59f6dea3-7e92-4d08-b1a8-4456dee37b0e",
   "metadata": {},
   "outputs": [
    {
     "data": {
      "text/plain": [
       "torch.Size([16, 10])"
      ]
     },
     "execution_count": 42,
     "metadata": {},
     "output_type": "execute_result"
    }
   ],
   "source": [
    "x.shape"
   ]
  },
  {
   "cell_type": "code",
   "execution_count": 43,
   "id": "5222cd38-0672-4209-a13e-11d9be35a3bb",
   "metadata": {},
   "outputs": [],
   "source": [
    "cnn = cnn.to(device)\n",
    "optimizer = optim.Adam(cnn.parameters())"
   ]
  },
  {
   "cell_type": "code",
   "execution_count": 45,
   "id": "789fcd18-0e19-4ecb-b3f1-6d64ec381887",
   "metadata": {
    "scrolled": true
   },
   "outputs": [
    {
     "name": "stdout",
     "output_type": "stream",
     "text": [
      "Epoch = 1 ----- Step = 78 ----- Loss = 0.11288394529042364 ---- Accuracy = 0.961629746835443\n",
      "Epoch = 2 ----- Step = 78 ----- Loss = 0.10799379151644586 ---- Accuracy = 0.9643987341772152\n",
      "Epoch = 3 ----- Step = 78 ----- Loss = 0.09804563804329196 ---- Accuracy = 0.9658821202531646\n",
      "Epoch = 4 ----- Step = 78 ----- Loss = 0.10608645832708365 ---- Accuracy = 0.9637064873417721\n",
      "Epoch = 5 ----- Step = 78 ----- Loss = 0.07784696798064286 ---- Accuracy = 0.9737935126582279\n",
      "Epoch = 6 ----- Step = 78 ----- Loss = 0.07672947230218333 ---- Accuracy = 0.9724090189873418\n",
      "Epoch = 7 ----- Step = 78 ----- Loss = 0.06798825059321863 ---- Accuracy = 0.9769580696202531\n",
      "Epoch = 8 ----- Step = 78 ----- Loss = 0.06379839511370121 ---- Accuracy = 0.9790348101265823\n",
      "Epoch = 9 ----- Step = 78 ----- Loss = 0.06570701345895665 ---- Accuracy = 0.9779469936708861\n",
      "Epoch = 10 ----- Step = 78 ----- Loss = 0.09688134515021421 ---- Accuracy = 0.9673655063291139\n",
      "Epoch = 11 ----- Step = 78 ----- Loss = 0.08034494229226927 ---- Accuracy = 0.9723101265822784\n",
      "Epoch = 12 ----- Step = 78 ----- Loss = 0.07505661285706336 ---- Accuracy = 0.9769580696202531\n",
      "Epoch = 13 ----- Step = 78 ----- Loss = 0.10586566133778307 ---- Accuracy = 0.9623219936708861\n",
      "Epoch = 14 ----- Step = 78 ----- Loss = 0.08594848433969236 ---- Accuracy = 0.9681566455696202\n",
      "Epoch = 15 ----- Step = 78 ----- Loss = 0.062114186349171624 ---- Accuracy = 0.9776503164556962\n",
      "Epoch = 16 ----- Step = 78 ----- Loss = 0.08594505894410459 ---- Accuracy = 0.9693433544303798\n",
      "Epoch = 17 ----- Step = 78 ----- Loss = 0.06098723662663487 ---- Accuracy = 0.9793314873417721\n",
      "Epoch = 18 ----- Step = 78 ----- Loss = 0.05570286407453727 ---- Accuracy = 0.9800237341772152\n",
      "Epoch = 19 ----- Step = 78 ----- Loss = 0.05338497213500587 ---- Accuracy = 0.9815071202531646\n",
      "Epoch = 20 ----- Step = 78 ----- Loss = 0.1101665883030318 ---- Accuracy = 0.9627175632911392\n",
      "Epoch = 21 ----- Step = 78 ----- Loss = 0.05781013426618486 ---- Accuracy = 0.9793314873417721\n",
      "Epoch = 22 ----- Step = 78 ----- Loss = 0.06523873985898268 ---- Accuracy = 0.9773536392405063\n",
      "Epoch = 23 ----- Step = 78 ----- Loss = 0.056070853449121306 ---- Accuracy = 0.9790348101265823\n",
      "Epoch = 24 ----- Step = 78 ----- Loss = 0.0919440925722541 ---- Accuracy = 0.9688488924050633\n",
      "Epoch = 25 ----- Step = 78 ----- Loss = 0.0533648916885634 ---- Accuracy = 0.9803204113924051\n",
      "Epoch = 26 ----- Step = 78 ----- Loss = 0.04208261029252523 ---- Accuracy = 0.9852650316455697\n",
      "Epoch = 27 ----- Step = 78 ----- Loss = 0.0497615806510837 ---- Accuracy = 0.983682753164557\n",
      "Epoch = 28 ----- Step = 78 ----- Loss = 0.050286496282095396 ---- Accuracy = 0.9831882911392406\n",
      "Epoch = 29 ----- Step = 78 ----- Loss = 0.05391860282331516 ---- Accuracy = 0.982693829113924\n",
      "Epoch = 30 ----- Step = 78 ----- Loss = 0.05158754160533412 ---- Accuracy = 0.9823971518987342\n",
      "Epoch = 31 ----- Step = 78 ----- Loss = 0.03957253827748797 ---- Accuracy = 0.9864517405063291\n",
      "Epoch = 32 ----- Step = 78 ----- Loss = 0.050047198499116714 ---- Accuracy = 0.9821004746835443\n",
      "Epoch = 33 ----- Step = 78 ----- Loss = 0.04998770090928183 ---- Accuracy = 0.9830893987341772\n",
      "Epoch = 34 ----- Step = 78 ----- Loss = 0.04032146798658975 ---- Accuracy = 0.986056170886076\n",
      "Epoch = 35 ----- Step = 78 ----- Loss = 0.057973330557534966 ---- Accuracy = 0.9810126582278481\n",
      "Epoch = 36 ----- Step = 78 ----- Loss = 0.03885085347898399 ---- Accuracy = 0.9863528481012658\n",
      "Epoch = 37 ----- Step = 78 ----- Loss = 0.03543401188276048 ---- Accuracy = 0.9877373417721519\n",
      "Epoch = 38 ----- Step = 78 ----- Loss = 0.043077872187795144 ---- Accuracy = 0.986748417721519\n",
      "Epoch = 39 ----- Step = 78 ----- Loss = 0.03823252025213611 ---- Accuracy = 0.9871439873417721\n",
      "Epoch = 40 ----- Step = 78 ----- Loss = 0.040852934732160805 ---- Accuracy = 0.9849683544303798\n",
      "Epoch = 41 ----- Step = 78 ----- Loss = 0.030749318823572014 ---- Accuracy = 0.9890229430379747\n",
      "Epoch = 42 ----- Step = 78 ----- Loss = 0.038234638512912617 ---- Accuracy = 0.986056170886076\n",
      "Epoch = 43 ----- Step = 78 ----- Loss = 0.04555442123497023 ---- Accuracy = 0.9858583860759493\n",
      "Epoch = 44 ----- Step = 78 ----- Loss = 0.03666215003291263 ---- Accuracy = 0.987440664556962\n",
      "Epoch = 45 ----- Step = 78 ----- Loss = 0.031972160356567254 ---- Accuracy = 0.9895174050632911\n",
      "Epoch = 46 ----- Step = 78 ----- Loss = 0.047996772140783225 ---- Accuracy = 0.9841772151898734\n",
      "Epoch = 47 ----- Step = 78 ----- Loss = 0.05355163679540723 ---- Accuracy = 0.982001582278481\n",
      "Epoch = 48 ----- Step = 78 ----- Loss = 0.039944531118992384 ---- Accuracy = 0.987440664556962\n",
      "Epoch = 49 ----- Step = 78 ----- Loss = 0.05912208611357816 ---- Accuracy = 0.9812104430379747\n",
      "Epoch = 50 ----- Step = 78 ----- Loss = 0.038899214885232944 ---- Accuracy = 0.9872428797468354\n",
      "Epoch = 51 ----- Step = 78 ----- Loss = 0.039321431677929966 ---- Accuracy = 0.9856606012658228\n",
      "Epoch = 52 ----- Step = 78 ----- Loss = 0.0364508624188602 ---- Accuracy = 0.9883306962025317\n",
      "Epoch = 53 ----- Step = 78 ----- Loss = 0.033361678218021044 ---- Accuracy = 0.9892207278481012\n",
      "Epoch = 54 ----- Step = 78 ----- Loss = 0.03698775881630239 ---- Accuracy = 0.9881329113924051\n",
      "Epoch = 55 ----- Step = 78 ----- Loss = 0.033667959745706626 ---- Accuracy = 0.9887262658227848\n",
      "Epoch = 56 ----- Step = 78 ----- Loss = 0.027376247216251832 ---- Accuracy = 0.9908030063291139\n",
      "Epoch = 57 ----- Step = 78 ----- Loss = 0.03230525388181964 ---- Accuracy = 0.9889240506329114\n",
      "Epoch = 58 ----- Step = 78 ----- Loss = 0.052160827263223034 ---- Accuracy = 0.9851661392405063\n",
      "Epoch = 59 ----- Step = 78 ----- Loss = 0.055658763645900576 ---- Accuracy = 0.9823971518987342\n",
      "Epoch = 60 ----- Step = 78 ----- Loss = 0.04554415541359141 ---- Accuracy = 0.9847705696202531\n",
      "Epoch = 61 ----- Step = 78 ----- Loss = 0.032142971164865204 ---- Accuracy = 0.9881329113924051\n",
      "Epoch = 62 ----- Step = 78 ----- Loss = 0.02781276649035089 ---- Accuracy = 0.989814082278481\n",
      "Epoch = 63 ----- Step = 78 ----- Loss = 0.03539230355026224 ---- Accuracy = 0.9881329113924051\n",
      "Epoch = 64 ----- Step = 78 ----- Loss = 0.03007512404642339 ---- Accuracy = 0.9910007911392406\n",
      "Epoch = 65 ----- Step = 78 ----- Loss = 0.061303486440425055 ---- Accuracy = 0.9804193037974683\n",
      "Epoch = 66 ----- Step = 78 ----- Loss = 0.04241582600965719 ---- Accuracy = 0.9854628164556962\n",
      "Epoch = 67 ----- Step = 78 ----- Loss = 0.027314583573466802 ---- Accuracy = 0.9909018987341772\n",
      "Epoch = 68 ----- Step = 78 ----- Loss = 0.04021798557000635 ---- Accuracy = 0.9869462025316456\n",
      "Epoch = 69 ----- Step = 78 ----- Loss = 0.036416664236236976 ---- Accuracy = 0.9863528481012658\n",
      "Epoch = 70 ----- Step = 78 ----- Loss = 0.060322662356329486 ---- Accuracy = 0.9801226265822784\n",
      "Epoch = 71 ----- Step = 78 ----- Loss = 0.03019366256562592 ---- Accuracy = 0.9902096518987342\n",
      "Epoch = 72 ----- Step = 78 ----- Loss = 0.044563193619840694 ---- Accuracy = 0.9841772151898734\n",
      "Epoch = 73 ----- Step = 78 ----- Loss = 0.026847318592893927 ---- Accuracy = 0.9906052215189873\n",
      "Epoch = 74 ----- Step = 78 ----- Loss = 0.021549061561133006 ---- Accuracy = 0.9929786392405063\n",
      "Epoch = 75 ----- Step = 78 ----- Loss = 0.02073650804784479 ---- Accuracy = 0.9922863924050633\n",
      "Epoch = 76 ----- Step = 78 ----- Loss = 0.021783971693366766 ---- Accuracy = 0.9933742088607594\n",
      "Epoch = 77 ----- Step = 78 ----- Loss = 0.022910988992787425 ---- Accuracy = 0.9925830696202531\n",
      "Epoch = 78 ----- Step = 78 ----- Loss = 0.04122611781128364 ---- Accuracy = 0.986748417721519\n",
      "Epoch = 79 ----- Step = 78 ----- Loss = 0.03859038352141086 ---- Accuracy = 0.9868473101265823\n",
      "Epoch = 80 ----- Step = 78 ----- Loss = 0.024397414805414745 ---- Accuracy = 0.990506329113924\n",
      "Epoch = 81 ----- Step = 78 ----- Loss = 0.02128431485240831 ---- Accuracy = 0.9926819620253164\n",
      "Epoch = 82 ----- Step = 78 ----- Loss = 0.026088155661650663 ---- Accuracy = 0.9918908227848101\n",
      "Epoch = 83 ----- Step = 78 ----- Loss = 0.02507001990481881 ---- Accuracy = 0.9916930379746836\n",
      "Epoch = 84 ----- Step = 78 ----- Loss = 0.03454088086750111 ---- Accuracy = 0.9895174050632911\n",
      "Epoch = 85 ----- Step = 78 ----- Loss = 0.026951625833031425 ---- Accuracy = 0.9907041139240507\n",
      "Epoch = 86 ----- Step = 78 ----- Loss = 0.01912559726705798 ---- Accuracy = 0.9933742088607594\n",
      "Epoch = 87 ----- Step = 78 ----- Loss = 0.01664443236784538 ---- Accuracy = 0.9943631329113924\n",
      "Epoch = 88 ----- Step = 78 ----- Loss = 0.023494831307185517 ---- Accuracy = 0.9919897151898734\n",
      "Epoch = 89 ----- Step = 78 ----- Loss = 0.025102890348592418 ---- Accuracy = 0.9913963607594937\n",
      "Epoch = 90 ----- Step = 78 ----- Loss = 0.026968737446726596 ---- Accuracy = 0.9907041139240507\n",
      "Epoch = 91 ----- Step = 78 ----- Loss = 0.026953488964104107 ---- Accuracy = 0.990506329113924\n",
      "Epoch = 92 ----- Step = 78 ----- Loss = 0.024811540385104032 ---- Accuracy = 0.991495253164557\n",
      "Epoch = 93 ----- Step = 78 ----- Loss = 0.026186968969134024 ---- Accuracy = 0.9913963607594937\n",
      "Epoch = 94 ----- Step = 78 ----- Loss = 0.016389346416285144 ---- Accuracy = 0.9946598101265823\n",
      "Epoch = 95 ----- Step = 78 ----- Loss = 0.031119477936608977 ---- Accuracy = 0.9895174050632911\n",
      "Epoch = 96 ----- Step = 78 ----- Loss = 0.05556268540588267 ---- Accuracy = 0.981309335443038\n",
      "Epoch = 97 ----- Step = 78 ----- Loss = 0.02622139774103755 ---- Accuracy = 0.9910007911392406\n",
      "Epoch = 98 ----- Step = 78 ----- Loss = 0.02538654542398415 ---- Accuracy = 0.9924841772151899\n",
      "Epoch = 99 ----- Step = 78 ----- Loss = 0.025799374502812382 ---- Accuracy = 0.9910996835443038\n",
      "Epoch = 100 ----- Step = 78 ----- Loss = 0.026073431573318952 ---- Accuracy = 0.9910007911392406\n",
      "Finished Training\n"
     ]
    }
   ],
   "source": [
    "# Train the CNN model\n",
    "epochs = 100\n",
    "for epoch in range(epochs):  # loop over the dataset multiple times\n",
    "    running_loss = 0.0\n",
    "    accuracy = 0.0\n",
    "    running_total = 0\n",
    "    for i, data in enumerate(train_dataloader_cifar10, 0):\n",
    "        total_len = len(train_dataloader_cifar10) -1\n",
    "        inputs, labels = data\n",
    "\n",
    "        optimizer.zero_grad()\n",
    "\n",
    "        logits = cnn(inputs.cuda())\n",
    "        loss = criterion(logits, labels.cuda())\n",
    "        loss.backward()\n",
    "        optimizer.step()\n",
    "\n",
    "        running_loss += loss.item()\n",
    "        running_total +=1\n",
    "        accuracy+=calc_accuracy(logits,labels.cuda())\n",
    "        #if i % 10 == 0 or i == total_len :  # print every 2000 mini-batches\n",
    "        if i == total_len :\n",
    "            print(f\"Epoch = {epoch+1} ----- Step = {i} ----- Loss = {running_loss/running_total} ---- Accuracy = {accuracy/running_total}\")\n",
    "            running_loss = 0.0\n",
    "            accuracy = 0.0\n",
    "            running_total = 0\n",
    "\n",
    "print('Finished Training')\n",
    "\n"
   ]
  },
  {
   "cell_type": "code",
   "execution_count": 47,
   "id": "cbeab00f-bcbb-4601-b5be-c75912c35d14",
   "metadata": {},
   "outputs": [
    {
     "name": "stdout",
     "output_type": "stream",
     "text": [
      "Accuracy of the MLP network on the 10000 test images: 59 %\n"
     ]
    }
   ],
   "source": [
    "evaluate(cnn)"
   ]
  },
  {
   "cell_type": "markdown",
   "id": "1a4c9217-fb8a-43db-8174-5ece0b2d7ae7",
   "metadata": {},
   "source": [
    "We see how MLPs achieve an accuracy of 80% on the training set whereas CNNs can go up till 99%.Although it appears that our basic CNN architecture overfits on this data still we get a test accuracy of 59% which is a major increase from the test accuracy of MLPs. This shows how well CNNs capture the both global and local features in an image. It is to be noted that both our test and train sets contain 10k images."
   ]
  },
  {
   "cell_type": "markdown",
   "id": "03060baa-3bc1-4679-bd6a-45752b6bd7c7",
   "metadata": {},
   "source": [
    "## VGG"
   ]
  },
  {
   "cell_type": "code",
   "execution_count": 113,
   "id": "02d84dad-b466-48d5-9484-09a59c55e3c9",
   "metadata": {},
   "outputs": [],
   "source": [
    "import torchvision.models as models\n",
    "vgg_model = models.vgg16(weights='DEFAULT')"
   ]
  },
  {
   "cell_type": "code",
   "execution_count": 114,
   "id": "b1ee2c0a-5482-4e4a-9afa-5aa72920dd39",
   "metadata": {},
   "outputs": [],
   "source": [
    "# Freeze convolutional layers\n",
    "for name,param in vgg_model.named_parameters():\n",
    "    #print(name,param.shape)\n",
    "    param.requires_grad = False"
   ]
  },
  {
   "cell_type": "code",
   "execution_count": 115,
   "id": "de2a9394-d63b-4545-9d52-760135c9e45a",
   "metadata": {},
   "outputs": [],
   "source": [
    "for param in vgg_model.classifier[-8:].parameters():\n",
    "    param.requires_grad = True\n",
    "for param in vgg_model.features[:4].parameters():\n",
    "    param.requires_grad = True"
   ]
  },
  {
   "cell_type": "code",
   "execution_count": 116,
   "id": "be3bf85a-6ced-4ecb-819f-7711bfe6356a",
   "metadata": {},
   "outputs": [],
   "source": [
    "# Here we are changing the last linear layer of our VGG"
   ]
  },
  {
   "cell_type": "code",
   "execution_count": 117,
   "id": "7864ea8f-2dcc-4a84-a291-427267253db3",
   "metadata": {},
   "outputs": [],
   "source": [
    "vgg_model.classifier[6] = nn.Linear(4096, 10)"
   ]
  },
  {
   "cell_type": "code",
   "execution_count": 118,
   "id": "fa0a25e2-0272-4ea7-bea2-b628033a1801",
   "metadata": {},
   "outputs": [
    {
     "name": "stdout",
     "output_type": "stream",
     "text": [
      "features.0.weight torch.Size([64, 3, 3, 3]) True\n",
      "features.0.bias torch.Size([64]) True\n",
      "features.2.weight torch.Size([64, 64, 3, 3]) True\n",
      "features.2.bias torch.Size([64]) True\n",
      "features.5.weight torch.Size([128, 64, 3, 3]) False\n",
      "features.5.bias torch.Size([128]) False\n",
      "features.7.weight torch.Size([128, 128, 3, 3]) False\n",
      "features.7.bias torch.Size([128]) False\n",
      "features.10.weight torch.Size([256, 128, 3, 3]) False\n",
      "features.10.bias torch.Size([256]) False\n",
      "features.12.weight torch.Size([256, 256, 3, 3]) False\n",
      "features.12.bias torch.Size([256]) False\n",
      "features.14.weight torch.Size([256, 256, 3, 3]) False\n",
      "features.14.bias torch.Size([256]) False\n",
      "features.17.weight torch.Size([512, 256, 3, 3]) False\n",
      "features.17.bias torch.Size([512]) False\n",
      "features.19.weight torch.Size([512, 512, 3, 3]) False\n",
      "features.19.bias torch.Size([512]) False\n",
      "features.21.weight torch.Size([512, 512, 3, 3]) False\n",
      "features.21.bias torch.Size([512]) False\n",
      "features.24.weight torch.Size([512, 512, 3, 3]) False\n",
      "features.24.bias torch.Size([512]) False\n",
      "features.26.weight torch.Size([512, 512, 3, 3]) False\n",
      "features.26.bias torch.Size([512]) False\n",
      "features.28.weight torch.Size([512, 512, 3, 3]) False\n",
      "features.28.bias torch.Size([512]) False\n",
      "classifier.0.weight torch.Size([4096, 25088]) True\n",
      "classifier.0.bias torch.Size([4096]) True\n",
      "classifier.3.weight torch.Size([4096, 4096]) True\n",
      "classifier.3.bias torch.Size([4096]) True\n",
      "classifier.6.weight torch.Size([10, 4096]) True\n",
      "classifier.6.bias torch.Size([10]) True\n"
     ]
    }
   ],
   "source": [
    "for name,param in vgg_model.named_parameters():\n",
    "    print(name,param.shape,param.requires_grad)"
   ]
  },
  {
   "cell_type": "code",
   "execution_count": 119,
   "id": "0059bfa8-5705-4080-b6c8-6d6994d159a1",
   "metadata": {},
   "outputs": [],
   "source": [
    "vgg_model = vgg_model.to(device)"
   ]
  },
  {
   "cell_type": "code",
   "execution_count": 120,
   "id": "bcbc2dfd-f9aa-463c-97c9-e8bd37fd5512",
   "metadata": {},
   "outputs": [],
   "source": [
    "optimizer_vgg = optim.Adam(vgg_model.parameters(), lr=0.001)"
   ]
  },
  {
   "cell_type": "code",
   "execution_count": 123,
   "id": "396d5f90-5274-42a6-9092-02c7daa96357",
   "metadata": {},
   "outputs": [
    {
     "name": "stdout",
     "output_type": "stream",
     "text": [
      "True\n",
      "True\n",
      "True\n",
      "True\n",
      "False\n",
      "False\n",
      "False\n",
      "False\n",
      "False\n",
      "False\n",
      "False\n",
      "False\n",
      "False\n",
      "False\n",
      "False\n",
      "False\n",
      "False\n",
      "False\n",
      "False\n",
      "False\n",
      "False\n",
      "False\n",
      "False\n",
      "False\n",
      "False\n",
      "False\n",
      "True\n",
      "True\n",
      "True\n",
      "True\n",
      "True\n",
      "True\n"
     ]
    }
   ],
   "source": [
    "for param in vgg_model.parameters():\n",
    "    print(param.requires_grad)"
   ]
  },
  {
   "cell_type": "code",
   "execution_count": 124,
   "id": "4bb21f45-bc8e-4966-88e6-bb8c36b8fe57",
   "metadata": {},
   "outputs": [],
   "source": [
    "def examine_grad(model):\n",
    "    for name, param in model.named_parameters():\n",
    "        if param.grad is not None:\n",
    "            print(f'{name}: Gradient shape - {param.grad.shape}  --- Requires grad {param.requires_grad}')\n",
    "        else:\n",
    "            print(f'{name}: Gradient shape - {param.grad}  --- Requires grad {param.requires_grad}')\n",
    "    "
   ]
  },
  {
   "cell_type": "code",
   "execution_count": 127,
   "id": "2ca05858-33f6-4b31-89a3-58f425561761",
   "metadata": {
    "scrolled": true
   },
   "outputs": [
    {
     "name": "stdout",
     "output_type": "stream",
     "text": [
      "Epoch = 1 ----- Step = 78 ----- Loss = 1.4078080156181432 ---- Accuracy = 0.4730023734177215\n",
      "Epoch = 2 ----- Step = 78 ----- Loss = 1.3868608172935775 ---- Accuracy = 0.4814082278481013\n",
      "Epoch = 3 ----- Step = 78 ----- Loss = 1.403942904894865 ---- Accuracy = 0.47695806962025317\n",
      "Epoch = 4 ----- Step = 78 ----- Loss = 1.477664749833602 ---- Accuracy = 0.4566851265822785\n",
      "Epoch = 5 ----- Step = 78 ----- Loss = 1.4386595502684387 ---- Accuracy = 0.46706882911392406\n",
      "Epoch = 6 ----- Step = 78 ----- Loss = 1.4412342370310915 ---- Accuracy = 0.45698180379746833\n",
      "Epoch = 7 ----- Step = 78 ----- Loss = 1.3891775819319714 ---- Accuracy = 0.47794699367088606\n",
      "Epoch = 8 ----- Step = 78 ----- Loss = 1.3600658857369725 ---- Accuracy = 0.489814082278481\n",
      "Epoch = 9 ----- Step = 78 ----- Loss = 1.3809407225138024 ---- Accuracy = 0.48239715189873417\n",
      "Epoch = 10 ----- Step = 78 ----- Loss = 1.381224304814882 ---- Accuracy = 0.4811115506329114\n",
      "Epoch = 11 ----- Step = 78 ----- Loss = 1.3492151076280618 ---- Accuracy = 0.4892207278481013\n",
      "Epoch = 12 ----- Step = 78 ----- Loss = 1.371555455123322 ---- Accuracy = 0.4909018987341772\n",
      "Epoch = 13 ----- Step = 78 ----- Loss = 1.383396050598048 ---- Accuracy = 0.4958465189873418\n",
      "Epoch = 14 ----- Step = 78 ----- Loss = 1.3605942092364347 ---- Accuracy = 0.49406645569620256\n",
      "Epoch = 15 ----- Step = 78 ----- Loss = 1.357147670999358 ---- Accuracy = 0.49713212025316456\n",
      "Epoch = 16 ----- Step = 78 ----- Loss = 1.3930476737927786 ---- Accuracy = 0.49169303797468356\n",
      "Epoch = 17 ----- Step = 78 ----- Loss = 1.3518245039106924 ---- Accuracy = 0.49406645569620256\n",
      "Epoch = 18 ----- Step = 78 ----- Loss = 1.3608591752716257 ---- Accuracy = 0.4991099683544304\n",
      "Epoch = 19 ----- Step = 78 ----- Loss = 1.3483431595790236 ---- Accuracy = 0.5004944620253164\n",
      "Epoch = 20 ----- Step = 78 ----- Loss = 1.3589731666106213 ---- Accuracy = 0.501681170886076\n",
      "Epoch = 21 ----- Step = 78 ----- Loss = 1.339096512975572 ---- Accuracy = 0.5056368670886076\n",
      "Epoch = 22 ----- Step = 78 ----- Loss = 1.3379545045804373 ---- Accuracy = 0.5127571202531646\n",
      "Epoch = 23 ----- Step = 78 ----- Loss = 1.3178472798081893 ---- Accuracy = 0.5141416139240507\n",
      "Epoch = 24 ----- Step = 78 ----- Loss = 1.3006929370421398 ---- Accuracy = 0.5200751582278481\n",
      "Epoch = 25 ----- Step = 78 ----- Loss = 1.3033516950245145 ---- Accuracy = 0.5089992088607594\n",
      "Epoch = 26 ----- Step = 78 ----- Loss = 1.315223645560349 ---- Accuracy = 0.5084058544303798\n",
      "Epoch = 27 ----- Step = 78 ----- Loss = 1.2951772635496115 ---- Accuracy = 0.5174050632911392\n",
      "Epoch = 28 ----- Step = 78 ----- Loss = 1.2937262601490263 ---- Accuracy = 0.522745253164557\n",
      "Epoch = 29 ----- Step = 78 ----- Loss = 1.3074521233763876 ---- Accuracy = 0.5171083860759493\n",
      "Epoch = 30 ----- Step = 78 ----- Loss = 1.2805601433862615 ---- Accuracy = 0.5247231012658228\n",
      "Epoch = 31 ----- Step = 78 ----- Loss = 1.3001490869099581 ---- Accuracy = 0.5257120253164557\n",
      "Epoch = 32 ----- Step = 78 ----- Loss = 1.2962345744990096 ---- Accuracy = 0.5218552215189873\n",
      "Epoch = 33 ----- Step = 78 ----- Loss = 1.2965319307544563 ---- Accuracy = 0.5198773734177216\n",
      "Epoch = 34 ----- Step = 78 ----- Loss = 1.2743254371836215 ---- Accuracy = 0.5346123417721519\n",
      "Epoch = 35 ----- Step = 78 ----- Loss = 1.420288466200044 ---- Accuracy = 0.48595727848101267\n",
      "Epoch = 36 ----- Step = 78 ----- Loss = 1.311924640136429 ---- Accuracy = 0.512559335443038\n",
      "Epoch = 37 ----- Step = 78 ----- Loss = 1.271241999879668 ---- Accuracy = 0.5317444620253164\n",
      "Epoch = 38 ----- Step = 78 ----- Loss = 1.2738277791421624 ---- Accuracy = 0.5275909810126582\n",
      "Epoch = 39 ----- Step = 78 ----- Loss = 1.2961712939829766 ---- Accuracy = 0.5174050632911392\n",
      "Epoch = 40 ----- Step = 78 ----- Loss = 1.2559409609323815 ---- Accuracy = 0.5342167721518988\n",
      "Epoch = 41 ----- Step = 78 ----- Loss = 1.2872560009171692 ---- Accuracy = 0.5253164556962026\n",
      "Epoch = 42 ----- Step = 78 ----- Loss = 1.2971624241599553 ---- Accuracy = 0.5184928797468354\n",
      "Epoch = 43 ----- Step = 78 ----- Loss = 1.2639754693719405 ---- Accuracy = 0.5379746835443038\n",
      "Epoch = 44 ----- Step = 78 ----- Loss = 1.2790283583387543 ---- Accuracy = 0.5249208860759493\n",
      "Epoch = 45 ----- Step = 78 ----- Loss = 1.247429366353192 ---- Accuracy = 0.5339200949367089\n",
      "Epoch = 46 ----- Step = 78 ----- Loss = 1.2216331536256815 ---- Accuracy = 0.5538963607594937\n",
      "Epoch = 47 ----- Step = 78 ----- Loss = 1.2304342985153198 ---- Accuracy = 0.5410403481012658\n",
      "Epoch = 48 ----- Step = 78 ----- Loss = 1.213200858876675 ---- Accuracy = 0.5514240506329114\n",
      "Epoch = 49 ----- Step = 78 ----- Loss = 1.214459577693215 ---- Accuracy = 0.5552808544303798\n",
      "Epoch = 50 ----- Step = 78 ----- Loss = 1.231728672226773 ---- Accuracy = 0.5431170886075949\n",
      "Epoch = 51 ----- Step = 78 ----- Loss = 1.233579868002783 ---- Accuracy = 0.5481606012658228\n",
      "Epoch = 52 ----- Step = 78 ----- Loss = 1.1811968842639198 ---- Accuracy = 0.5664556962025317\n",
      "Epoch = 53 ----- Step = 78 ----- Loss = 1.2507077395161497 ---- Accuracy = 0.5464794303797469\n",
      "Epoch = 54 ----- Step = 78 ----- Loss = 1.2537306350997732 ---- Accuracy = 0.5396558544303798\n",
      "Epoch = 55 ----- Step = 78 ----- Loss = 1.2365056638476215 ---- Accuracy = 0.5495450949367089\n",
      "Epoch = 56 ----- Step = 78 ----- Loss = 1.4528125962124596 ---- Accuracy = 0.4710245253164557\n",
      "Epoch = 57 ----- Step = 78 ----- Loss = 1.3881361228001268 ---- Accuracy = 0.4846716772151899\n",
      "Epoch = 58 ----- Step = 78 ----- Loss = 1.2542539186115507 ---- Accuracy = 0.540743670886076\n",
      "Epoch = 59 ----- Step = 78 ----- Loss = 1.2360201787345018 ---- Accuracy = 0.5488528481012658\n",
      "Epoch = 60 ----- Step = 78 ----- Loss = 1.2166753939435453 ---- Accuracy = 0.5520174050632911\n",
      "Epoch = 61 ----- Step = 78 ----- Loss = 1.2102585661260388 ---- Accuracy = 0.5535996835443038\n",
      "Epoch = 62 ----- Step = 78 ----- Loss = 1.2121639885479891 ---- Accuracy = 0.5556764240506329\n",
      "Epoch = 63 ----- Step = 78 ----- Loss = 1.23717087431799 ---- Accuracy = 0.5495450949367089\n",
      "Epoch = 64 ----- Step = 78 ----- Loss = 1.216088042983526 ---- Accuracy = 0.5464794303797469\n",
      "Epoch = 65 ----- Step = 78 ----- Loss = 1.1998936662191078 ---- Accuracy = 0.5604232594936709\n",
      "Epoch = 66 ----- Step = 78 ----- Loss = 1.1656975006755395 ---- Accuracy = 0.571993670886076\n",
      "Epoch = 67 ----- Step = 78 ----- Loss = 1.179766673830491 ---- Accuracy = 0.5638844936708861\n",
      "Epoch = 68 ----- Step = 78 ----- Loss = 1.2373895056640045 ---- Accuracy = 0.5420292721518988\n",
      "Epoch = 69 ----- Step = 78 ----- Loss = 1.173719827132889 ---- Accuracy = 0.567939082278481\n",
      "Epoch = 70 ----- Step = 78 ----- Loss = 1.1848289445985722 ---- Accuracy = 0.5651700949367089\n",
      "Epoch = 71 ----- Step = 78 ----- Loss = 1.188079626499852 ---- Accuracy = 0.5639833860759493\n",
      "Epoch = 72 ----- Step = 78 ----- Loss = 1.1416337897505942 ---- Accuracy = 0.5782238924050633\n",
      "Epoch = 73 ----- Step = 78 ----- Loss = 1.2083501453641095 ---- Accuracy = 0.5603243670886076\n",
      "Epoch = 74 ----- Step = 78 ----- Loss = 1.1621285277076914 ---- Accuracy = 0.5741693037974683\n",
      "Epoch = 75 ----- Step = 78 ----- Loss = 1.1906957324547103 ---- Accuracy = 0.5637856012658228\n",
      "Epoch = 76 ----- Step = 78 ----- Loss = 1.234708711316314 ---- Accuracy = 0.5473694620253164\n",
      "Epoch = 77 ----- Step = 78 ----- Loss = 1.2576757669448853 ---- Accuracy = 0.552314082278481\n",
      "Epoch = 78 ----- Step = 78 ----- Loss = 1.225088677828825 ---- Accuracy = 0.5431170886075949\n",
      "Epoch = 79 ----- Step = 78 ----- Loss = 1.1846344455888 ---- Accuracy = 0.5671479430379747\n",
      "Epoch = 80 ----- Step = 78 ----- Loss = 1.155992861789993 ---- Accuracy = 0.5763449367088608\n",
      "Epoch = 81 ----- Step = 78 ----- Loss = 1.1523392494720748 ---- Accuracy = 0.5815862341772152\n",
      "Epoch = 82 ----- Step = 78 ----- Loss = 1.2233097779599926 ---- Accuracy = 0.5559731012658228\n",
      "Epoch = 83 ----- Step = 78 ----- Loss = 1.169230069540724 ---- Accuracy = 0.5709058544303798\n",
      "Epoch = 84 ----- Step = 78 ----- Loss = 1.139925215817705 ---- Accuracy = 0.5832674050632911\n",
      "Epoch = 85 ----- Step = 78 ----- Loss = 1.16159924374351 ---- Accuracy = 0.5727848101265823\n",
      "Epoch = 86 ----- Step = 78 ----- Loss = 1.1478400984896888 ---- Accuracy = 0.5850474683544303\n",
      "Epoch = 87 ----- Step = 78 ----- Loss = 1.1703535401368443 ---- Accuracy = 0.5703125\n",
      "Epoch = 88 ----- Step = 78 ----- Loss = 1.135942128640187 ---- Accuracy = 0.5815862341772152\n",
      "Epoch = 91 ----- Step = 78 ----- Loss = 1.1102257287954982 ---- Accuracy = 0.5989912974683544\n",
      "Epoch = 92 ----- Step = 78 ----- Loss = 1.1333454145660884 ---- Accuracy = 0.5863330696202531\n",
      "Epoch = 93 ----- Step = 78 ----- Loss = 1.1558072318004657 ---- Accuracy = 0.5800039556962026\n",
      "Epoch = 94 ----- Step = 78 ----- Loss = 1.1258332540717306 ---- Accuracy = 0.5862341772151899\n",
      "Epoch = 95 ----- Step = 78 ----- Loss = 1.1248911581461942 ---- Accuracy = 0.5881131329113924\n",
      "Epoch = 96 ----- Step = 78 ----- Loss = 1.148806164536295 ---- Accuracy = 0.5809928797468354\n",
      "Epoch = 97 ----- Step = 78 ----- Loss = 1.108823970903324 ---- Accuracy = 0.591376582278481\n",
      "Epoch = 98 ----- Step = 78 ----- Loss = 1.2757801587068582 ---- Accuracy = 0.542128164556962\n",
      "Epoch = 99 ----- Step = 78 ----- Loss = 1.1561066908172415 ---- Accuracy = 0.5789161392405063\n",
      "Epoch = 100 ----- Step = 78 ----- Loss = 1.1252829628654673 ---- Accuracy = 0.5926621835443038\n",
      "Finished Training\n"
     ]
    }
   ],
   "source": [
    "# Train the VGG model\n",
    "epochs = 100\n",
    "vgg_model.train()\n",
    "for epoch in range(epochs):  # loop over the dataset multiple times\n",
    "    running_loss = 0.0\n",
    "    accuracy = 0.0\n",
    "    running_total = 0\n",
    "    for i, data in enumerate(train_dataloader_cifar10, 0):\n",
    "        total_len = len(train_dataloader_cifar10) -1\n",
    "        inputs, labels = data\n",
    "\n",
    "        optimizer_vgg.zero_grad()\n",
    "\n",
    "        logits = vgg_model(inputs.cuda())\n",
    "        \n",
    "            \n",
    "        loss = criterion(logits, labels.cuda())\n",
    "        loss.backward()\n",
    "        #examine_grad(vgg_model)\n",
    "        optimizer_vgg.step()\n",
    "\n",
    "        running_loss += loss.item()\n",
    "        running_total +=1\n",
    "        accuracy+=calc_accuracy(logits,labels.cuda())\n",
    "        #if i % 10 == 0 or i == total_len :  # print every 2000 mini-batches\n",
    "        if i == total_len :\n",
    "            print(f\"Epoch = {epoch+1} ----- Step = {i} ----- Loss = {running_loss/running_total} ---- Accuracy = {accuracy/running_total}\")\n",
    "            running_loss = 0.0\n",
    "            accuracy = 0.0\n",
    "            running_total = 0\n",
    "\n",
    "print('Finished Training')"
   ]
  },
  {
   "cell_type": "code",
   "execution_count": 128,
   "id": "fdc4eb64-f0b3-4d89-8fb7-66defda3e8d5",
   "metadata": {},
   "outputs": [
    {
     "name": "stdout",
     "output_type": "stream",
     "text": [
      "Accuracy of the MLP network on the 10000 test images: 45 %\n"
     ]
    }
   ],
   "source": [
    "evaluate(vgg_model)"
   ]
  },
  {
   "cell_type": "markdown",
   "id": "7d82e250-0b26-41b2-960d-5940886b3e98",
   "metadata": {},
   "source": [
    "It seems that freezing the initial layers on VGG and transfer learning on the lower layers doesnt have much effect. However Full fine tuning yields comparable results"
   ]
  },
  {
   "cell_type": "code",
   "execution_count": null,
   "id": "2c018c22-b4ee-4d29-b5f9-7e748314a66e",
   "metadata": {},
   "outputs": [],
   "source": []
  }
 ],
 "metadata": {
  "kernelspec": {
   "display_name": "lrw",
   "language": "python",
   "name": "lrw"
  },
  "language_info": {
   "codemirror_mode": {
    "name": "ipython",
    "version": 3
   },
   "file_extension": ".py",
   "mimetype": "text/x-python",
   "name": "python",
   "nbconvert_exporter": "python",
   "pygments_lexer": "ipython3",
   "version": "3.10.13"
  }
 },
 "nbformat": 4,
 "nbformat_minor": 5
}
